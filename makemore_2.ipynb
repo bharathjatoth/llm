{
 "cells": [
  {
   "cell_type": "code",
   "execution_count": 95,
   "id": "3d336961-30ba-433e-ba6f-29f09e9d4953",
   "metadata": {},
   "outputs": [],
   "source": [
    "# we implemented the bigram model using counts and nn\n",
    "# but the problem is we donot got good results with this model and we took only one char to predict the next\n",
    "# If we need to take more context to predict (one char 27*27) (take two char 27*27 * 27*27 matrix) and take three (27*27*27 / 27*27*27 matrix)\n",
    "# so we use multilayer perceptron or neuralnetworks that we are going to implement today\n",
    "# here we use embeddings of each word in a 30/60/100 dimension space and use backprop to get the each word into same dimension as training occures\n",
    "import torch\n",
    "import torch.nn.functional as F\n",
    "import matplotlib.pyplot as plt\n",
    "%matplotlib inline"
   ]
  },
  {
   "cell_type": "code",
   "execution_count": 109,
   "id": "7ee24bdd-321b-49db-b519-3e8d15ab25ce",
   "metadata": {},
   "outputs": [
    {
     "data": {
      "text/plain": [
       "['emma',\n",
       " 'olivia',\n",
       " 'ava',\n",
       " 'isabella',\n",
       " 'sophia',\n",
       " 'charlotte',\n",
       " 'mia',\n",
       " 'amelia',\n",
       " 'harper',\n",
       " 'evelyn']"
      ]
     },
     "execution_count": 109,
     "metadata": {},
     "output_type": "execute_result"
    }
   ],
   "source": [
    "#reading words from the same old file as names.txt\n",
    "words = open(r'C:\\Users\\bhara\\PycharmProjects\\hugging\\Dataset\\Makemore\\Names\\names.txt','r').read().splitlines()\n",
    "words[:10]"
   ]
  },
  {
   "cell_type": "code",
   "execution_count": 110,
   "id": "6bcccf53-25f9-4007-9672-61c5a5e4ff77",
   "metadata": {},
   "outputs": [
    {
     "data": {
      "text/plain": [
       "32033"
      ]
     },
     "execution_count": 110,
     "metadata": {},
     "output_type": "execute_result"
    }
   ],
   "source": [
    "len(words) #total length of words is 32033 \n",
    "#we build the embedding lookup as 32033 * 30 (dimension depending on the hyperparameter)"
   ]
  },
  {
   "cell_type": "code",
   "execution_count": 98,
   "id": "3ed9a310-7c6d-4088-a328-eb6f809bff6f",
   "metadata": {},
   "outputs": [
    {
     "data": {
      "text/plain": [
       "{'a': 1,\n",
       " 'b': 2,\n",
       " 'c': 3,\n",
       " 'd': 4,\n",
       " 'e': 5,\n",
       " 'f': 6,\n",
       " 'g': 7,\n",
       " 'h': 8,\n",
       " 'i': 9,\n",
       " 'j': 10,\n",
       " 'k': 11,\n",
       " 'l': 12,\n",
       " 'm': 13,\n",
       " 'n': 14,\n",
       " 'o': 15,\n",
       " 'p': 16,\n",
       " 'q': 17,\n",
       " 'r': 18,\n",
       " 's': 19,\n",
       " 't': 20,\n",
       " 'u': 21,\n",
       " 'v': 22,\n",
       " 'w': 23,\n",
       " 'x': 24,\n",
       " 'y': 25,\n",
       " 'z': 26,\n",
       " '.': 0}"
      ]
     },
     "execution_count": 98,
     "metadata": {},
     "output_type": "execute_result"
    }
   ],
   "source": [
    "#building the itos and stoi dict\n",
    "chars = sorted(list(set(''.join(words))))\n",
    "stoi = {s:i+1 for i,s in enumerate(chars)}\n",
    "stoi['.'] = 0\n",
    "itos = {i:s for s,i in stoi.items()}\n",
    "stoi"
   ]
  },
  {
   "cell_type": "code",
   "execution_count": 99,
   "id": "e24dba5c-d640-44a8-8c05-b45626c5e3ee",
   "metadata": {},
   "outputs": [],
   "source": [
    "#building the dataset\n",
    "block_size = 4 #after how many words we take so we take 4 words to predict 5th word\n",
    "X,Y = [],[]\n",
    "for w in words:\n",
    "    # print(w)\n",
    "    context = [0] * block_size\n",
    "    for ch in w + '.':\n",
    "        ix = stoi[ch]\n",
    "        # print(context,ix)\n",
    "        X.append(context)\n",
    "        Y.append(ix)\n",
    "        # print(''.join(itos[i] for i in context), '---->', itos[ix])\n",
    "        context = context[1:] + [ix] #crop and append\n",
    "X = torch.tensor(X)\n",
    "Y = torch.tensor(Y)"
   ]
  },
  {
   "cell_type": "code",
   "execution_count": 100,
   "id": "9c634bc3-1525-4037-8489-b1ec99b07920",
   "metadata": {},
   "outputs": [
    {
     "data": {
      "text/plain": [
       "(torch.Size([228146, 4]), torch.Size([228146]))"
      ]
     },
     "execution_count": 100,
     "metadata": {},
     "output_type": "execute_result"
    }
   ],
   "source": [
    "X.shape,Y.shape"
   ]
  },
  {
   "cell_type": "code",
   "execution_count": 7,
   "id": "1cb5ce63-c5b3-4015-8f45-a57418b4efb2",
   "metadata": {},
   "outputs": [
    {
     "data": {
      "text/plain": [
       "(tensor([[ 0,  0,  0,  0],\n",
       "         [ 0,  0,  0,  5],\n",
       "         [ 0,  0,  5, 13],\n",
       "         [ 0,  5, 13, 13],\n",
       "         [ 5, 13, 13,  1],\n",
       "         [ 0,  0,  0,  0],\n",
       "         [ 0,  0,  0, 15],\n",
       "         [ 0,  0, 15, 12],\n",
       "         [ 0, 15, 12,  9],\n",
       "         [15, 12,  9, 22],\n",
       "         [12,  9, 22,  9],\n",
       "         [ 9, 22,  9,  1],\n",
       "         [ 0,  0,  0,  0],\n",
       "         [ 0,  0,  0,  1],\n",
       "         [ 0,  0,  1, 22],\n",
       "         [ 0,  1, 22,  1],\n",
       "         [ 0,  0,  0,  0],\n",
       "         [ 0,  0,  0,  9],\n",
       "         [ 0,  0,  9, 19],\n",
       "         [ 0,  9, 19,  1],\n",
       "         [ 9, 19,  1,  2],\n",
       "         [19,  1,  2,  5],\n",
       "         [ 1,  2,  5, 12],\n",
       "         [ 2,  5, 12, 12],\n",
       "         [ 5, 12, 12,  1],\n",
       "         [ 0,  0,  0,  0],\n",
       "         [ 0,  0,  0, 19],\n",
       "         [ 0,  0, 19, 15],\n",
       "         [ 0, 19, 15, 16],\n",
       "         [19, 15, 16,  8],\n",
       "         [15, 16,  8,  9],\n",
       "         [16,  8,  9,  1]]),\n",
       " tensor([ 5, 13, 13,  1,  0, 15, 12,  9, 22,  9,  1,  0,  1, 22,  1,  0,  9, 19,\n",
       "          1,  2,  5, 12, 12,  1,  0, 19, 15, 16,  8,  9,  1,  0]))"
      ]
     },
     "execution_count": 7,
     "metadata": {},
     "output_type": "execute_result"
    }
   ],
   "source": [
    "X,Y"
   ]
  },
  {
   "cell_type": "code",
   "execution_count": 8,
   "id": "429a5081-68e5-4632-b843-160ac8d37fbf",
   "metadata": {},
   "outputs": [],
   "source": [
    "C = torch.randn((27,2)) # we embed the 27 possible chars to 2Dimen\n",
    "#C is a look up table"
   ]
  },
  {
   "cell_type": "code",
   "execution_count": 9,
   "id": "012e479d-bbe7-46e2-92f4-e2eee2c3446a",
   "metadata": {},
   "outputs": [
    {
     "data": {
      "text/plain": [
       "tensor([0.1670, 0.1970])"
      ]
     },
     "execution_count": 9,
     "metadata": {},
     "output_type": "execute_result"
    }
   ],
   "source": [
    "C[5]"
   ]
  },
  {
   "cell_type": "code",
   "execution_count": 10,
   "id": "6b2b3851-1c4f-4bc0-a777-a4a220a70e4d",
   "metadata": {},
   "outputs": [
    {
     "data": {
      "text/plain": [
       "tensor([0.1670, 0.1970])"
      ]
     },
     "execution_count": 10,
     "metadata": {},
     "output_type": "execute_result"
    }
   ],
   "source": [
    "# In makemore_1 we did the onehot encoding but this is same as the randn \n",
    "# so we are not taking this as this is equivalent to the above\n",
    "F.one_hot(torch.tensor(5),num_classes=27).float() @ C"
   ]
  },
  {
   "cell_type": "code",
   "execution_count": 11,
   "id": "d087b4f3-3d1f-49e5-8a20-602cfe78bd38",
   "metadata": {},
   "outputs": [
    {
     "data": {
      "text/plain": [
       "tensor([[[ 0.1452,  1.0402],\n",
       "         [ 0.1452,  1.0402],\n",
       "         [ 0.1452,  1.0402],\n",
       "         [ 0.1452,  1.0402]],\n",
       "\n",
       "        [[ 0.1452,  1.0402],\n",
       "         [ 0.1452,  1.0402],\n",
       "         [ 0.1452,  1.0402],\n",
       "         [ 0.1670,  0.1970]],\n",
       "\n",
       "        [[ 0.1452,  1.0402],\n",
       "         [ 0.1452,  1.0402],\n",
       "         [ 0.1670,  0.1970],\n",
       "         [-0.0734, -0.9177]],\n",
       "\n",
       "        [[ 0.1452,  1.0402],\n",
       "         [ 0.1670,  0.1970],\n",
       "         [-0.0734, -0.9177],\n",
       "         [-0.0734, -0.9177]],\n",
       "\n",
       "        [[ 0.1670,  0.1970],\n",
       "         [-0.0734, -0.9177],\n",
       "         [-0.0734, -0.9177],\n",
       "         [ 1.2892, -0.4194]],\n",
       "\n",
       "        [[ 0.1452,  1.0402],\n",
       "         [ 0.1452,  1.0402],\n",
       "         [ 0.1452,  1.0402],\n",
       "         [ 0.1452,  1.0402]],\n",
       "\n",
       "        [[ 0.1452,  1.0402],\n",
       "         [ 0.1452,  1.0402],\n",
       "         [ 0.1452,  1.0402],\n",
       "         [ 1.1939,  1.1132]],\n",
       "\n",
       "        [[ 0.1452,  1.0402],\n",
       "         [ 0.1452,  1.0402],\n",
       "         [ 1.1939,  1.1132],\n",
       "         [ 0.7108, -0.7028]],\n",
       "\n",
       "        [[ 0.1452,  1.0402],\n",
       "         [ 1.1939,  1.1132],\n",
       "         [ 0.7108, -0.7028],\n",
       "         [-0.7666,  0.0326]],\n",
       "\n",
       "        [[ 1.1939,  1.1132],\n",
       "         [ 0.7108, -0.7028],\n",
       "         [-0.7666,  0.0326],\n",
       "         [-0.3816, -0.3165]],\n",
       "\n",
       "        [[ 0.7108, -0.7028],\n",
       "         [-0.7666,  0.0326],\n",
       "         [-0.3816, -0.3165],\n",
       "         [-0.7666,  0.0326]],\n",
       "\n",
       "        [[-0.7666,  0.0326],\n",
       "         [-0.3816, -0.3165],\n",
       "         [-0.7666,  0.0326],\n",
       "         [ 1.2892, -0.4194]],\n",
       "\n",
       "        [[ 0.1452,  1.0402],\n",
       "         [ 0.1452,  1.0402],\n",
       "         [ 0.1452,  1.0402],\n",
       "         [ 0.1452,  1.0402]],\n",
       "\n",
       "        [[ 0.1452,  1.0402],\n",
       "         [ 0.1452,  1.0402],\n",
       "         [ 0.1452,  1.0402],\n",
       "         [ 1.2892, -0.4194]],\n",
       "\n",
       "        [[ 0.1452,  1.0402],\n",
       "         [ 0.1452,  1.0402],\n",
       "         [ 1.2892, -0.4194],\n",
       "         [-0.3816, -0.3165]],\n",
       "\n",
       "        [[ 0.1452,  1.0402],\n",
       "         [ 1.2892, -0.4194],\n",
       "         [-0.3816, -0.3165],\n",
       "         [ 1.2892, -0.4194]],\n",
       "\n",
       "        [[ 0.1452,  1.0402],\n",
       "         [ 0.1452,  1.0402],\n",
       "         [ 0.1452,  1.0402],\n",
       "         [ 0.1452,  1.0402]],\n",
       "\n",
       "        [[ 0.1452,  1.0402],\n",
       "         [ 0.1452,  1.0402],\n",
       "         [ 0.1452,  1.0402],\n",
       "         [-0.7666,  0.0326]],\n",
       "\n",
       "        [[ 0.1452,  1.0402],\n",
       "         [ 0.1452,  1.0402],\n",
       "         [-0.7666,  0.0326],\n",
       "         [ 0.2807, -1.6815]],\n",
       "\n",
       "        [[ 0.1452,  1.0402],\n",
       "         [-0.7666,  0.0326],\n",
       "         [ 0.2807, -1.6815],\n",
       "         [ 1.2892, -0.4194]],\n",
       "\n",
       "        [[-0.7666,  0.0326],\n",
       "         [ 0.2807, -1.6815],\n",
       "         [ 1.2892, -0.4194],\n",
       "         [ 1.1665, -1.8334]],\n",
       "\n",
       "        [[ 0.2807, -1.6815],\n",
       "         [ 1.2892, -0.4194],\n",
       "         [ 1.1665, -1.8334],\n",
       "         [ 0.1670,  0.1970]],\n",
       "\n",
       "        [[ 1.2892, -0.4194],\n",
       "         [ 1.1665, -1.8334],\n",
       "         [ 0.1670,  0.1970],\n",
       "         [ 0.7108, -0.7028]],\n",
       "\n",
       "        [[ 1.1665, -1.8334],\n",
       "         [ 0.1670,  0.1970],\n",
       "         [ 0.7108, -0.7028],\n",
       "         [ 0.7108, -0.7028]],\n",
       "\n",
       "        [[ 0.1670,  0.1970],\n",
       "         [ 0.7108, -0.7028],\n",
       "         [ 0.7108, -0.7028],\n",
       "         [ 1.2892, -0.4194]],\n",
       "\n",
       "        [[ 0.1452,  1.0402],\n",
       "         [ 0.1452,  1.0402],\n",
       "         [ 0.1452,  1.0402],\n",
       "         [ 0.1452,  1.0402]],\n",
       "\n",
       "        [[ 0.1452,  1.0402],\n",
       "         [ 0.1452,  1.0402],\n",
       "         [ 0.1452,  1.0402],\n",
       "         [ 0.2807, -1.6815]],\n",
       "\n",
       "        [[ 0.1452,  1.0402],\n",
       "         [ 0.1452,  1.0402],\n",
       "         [ 0.2807, -1.6815],\n",
       "         [ 1.1939,  1.1132]],\n",
       "\n",
       "        [[ 0.1452,  1.0402],\n",
       "         [ 0.2807, -1.6815],\n",
       "         [ 1.1939,  1.1132],\n",
       "         [ 0.2326, -0.8068]],\n",
       "\n",
       "        [[ 0.2807, -1.6815],\n",
       "         [ 1.1939,  1.1132],\n",
       "         [ 0.2326, -0.8068],\n",
       "         [-1.1285,  0.2595]],\n",
       "\n",
       "        [[ 1.1939,  1.1132],\n",
       "         [ 0.2326, -0.8068],\n",
       "         [-1.1285,  0.2595],\n",
       "         [-0.7666,  0.0326]],\n",
       "\n",
       "        [[ 0.2326, -0.8068],\n",
       "         [-1.1285,  0.2595],\n",
       "         [-0.7666,  0.0326],\n",
       "         [ 1.2892, -0.4194]]])"
      ]
     },
     "execution_count": 11,
     "metadata": {},
     "output_type": "execute_result"
    }
   ],
   "source": [
    "# we index all the X at once\n",
    "C[X]"
   ]
  },
  {
   "cell_type": "code",
   "execution_count": 12,
   "id": "a25843aa-794e-408e-9bc9-12874d7c56ae",
   "metadata": {},
   "outputs": [
    {
     "data": {
      "text/plain": [
       "tensor(22)"
      ]
     },
     "execution_count": 12,
     "metadata": {},
     "output_type": "execute_result"
    }
   ],
   "source": [
    "X[10,2]"
   ]
  },
  {
   "cell_type": "code",
   "execution_count": 13,
   "id": "940a09d8-9172-48bc-b533-bffc3dabaf34",
   "metadata": {},
   "outputs": [
    {
     "data": {
      "text/plain": [
       "tensor([-0.3816, -0.3165])"
      ]
     },
     "execution_count": 13,
     "metadata": {},
     "output_type": "execute_result"
    }
   ],
   "source": [
    "C[X][10,2]"
   ]
  },
  {
   "cell_type": "code",
   "execution_count": 14,
   "id": "d7af76b3-8275-4dae-b5e2-4fb1c37c50e0",
   "metadata": {},
   "outputs": [
    {
     "data": {
      "text/plain": [
       "tensor([-0.3816, -0.3165])"
      ]
     },
     "execution_count": 14,
     "metadata": {},
     "output_type": "execute_result"
    }
   ],
   "source": [
    "C[22]"
   ]
  },
  {
   "cell_type": "code",
   "execution_count": 15,
   "id": "a8706b40-8564-4c45-a25b-281576cceb50",
   "metadata": {},
   "outputs": [
    {
     "data": {
      "text/plain": [
       "torch.Size([32, 4, 2])"
      ]
     },
     "execution_count": 15,
     "metadata": {},
     "output_type": "execute_result"
    }
   ],
   "source": [
    "embed = C[X]\n",
    "embed.shape"
   ]
  },
  {
   "cell_type": "code",
   "execution_count": 16,
   "id": "fc9c0fb0-06d7-4d21-a69c-218bf787ed00",
   "metadata": {},
   "outputs": [],
   "source": [
    "W1 = torch.randn((8,150))\n",
    "b1 = torch.randn(150)"
   ]
  },
  {
   "cell_type": "code",
   "execution_count": 17,
   "id": "5a00c7bb-be69-49dc-8e3b-c218167a5ac8",
   "metadata": {},
   "outputs": [
    {
     "ename": "RuntimeError",
     "evalue": "mat1 and mat2 shapes cannot be multiplied (128x2 and 8x150)",
     "output_type": "error",
     "traceback": [
      "\u001b[1;31m---------------------------------------------------------------------------\u001b[0m",
      "\u001b[1;31mRuntimeError\u001b[0m                              Traceback (most recent call last)",
      "Cell \u001b[1;32mIn[17], line 1\u001b[0m\n\u001b[1;32m----> 1\u001b[0m \u001b[43membed\u001b[49m\u001b[43m \u001b[49m\u001b[38;5;241;43m@\u001b[39;49m\u001b[43m \u001b[49m\u001b[43mW1\u001b[49m \u001b[38;5;241m+\u001b[39m b1 \u001b[38;5;66;03m# so we need to transform 64* 2 to 16*8\u001b[39;00m\n",
      "\u001b[1;31mRuntimeError\u001b[0m: mat1 and mat2 shapes cannot be multiplied (128x2 and 8x150)"
     ]
    }
   ],
   "source": [
    "embed @ W1 + b1 # so we need to transform 64* 2 to 16*8"
   ]
  },
  {
   "cell_type": "code",
   "execution_count": 18,
   "id": "db1c1901-df5f-46d1-9c75-0c0e2707bf21",
   "metadata": {},
   "outputs": [
    {
     "data": {
      "text/plain": [
       "torch.Size([32, 8])"
      ]
     },
     "execution_count": 18,
     "metadata": {},
     "output_type": "execute_result"
    }
   ],
   "source": [
    "torch.cat([embed[:,0,:], embed[:,1,:], embed[:,2,:], embed[:,3,:]], 1).shape\n",
    "#but it will not generalize later so torch comes to rescure i.e unbind\n",
    "# we discard cat as this needs/creates new memory"
   ]
  },
  {
   "cell_type": "code",
   "execution_count": 19,
   "id": "924a27d7-d43a-4463-9dc0-7d8f993e2b05",
   "metadata": {},
   "outputs": [
    {
     "data": {
      "text/plain": [
       "torch.Size([32, 8])"
      ]
     },
     "execution_count": 19,
     "metadata": {},
     "output_type": "execute_result"
    }
   ],
   "source": [
    "torch.cat(torch.unbind(embed,1),1).shape"
   ]
  },
  {
   "cell_type": "code",
   "execution_count": 20,
   "id": "c326d803-af3a-40eb-a240-5f833d04e3c6",
   "metadata": {},
   "outputs": [],
   "source": [
    "a = torch.arange(18)"
   ]
  },
  {
   "cell_type": "code",
   "execution_count": 21,
   "id": "7b5834fb-16bf-460c-89ea-36ff1c24cad0",
   "metadata": {},
   "outputs": [
    {
     "data": {
      "text/plain": [
       "torch.Size([18])"
      ]
     },
     "execution_count": 21,
     "metadata": {},
     "output_type": "execute_result"
    }
   ],
   "source": [
    "a.shape"
   ]
  },
  {
   "cell_type": "code",
   "execution_count": 22,
   "id": "7956fc6d-b11f-4854-8244-dc8fc16c413f",
   "metadata": {},
   "outputs": [
    {
     "data": {
      "text/plain": [
       "tensor([[[ 0,  1,  2],\n",
       "         [ 3,  4,  5],\n",
       "         [ 6,  7,  8]],\n",
       "\n",
       "        [[ 9, 10, 11],\n",
       "         [12, 13, 14],\n",
       "         [15, 16, 17]]])"
      ]
     },
     "execution_count": 22,
     "metadata": {},
     "output_type": "execute_result"
    }
   ],
   "source": [
    "a.view(2,3,3)"
   ]
  },
  {
   "cell_type": "code",
   "execution_count": 23,
   "id": "7efaecf7-8bdd-48d5-99c2-7d4508fc02e6",
   "metadata": {},
   "outputs": [
    {
     "name": "stderr",
     "output_type": "stream",
     "text": [
      "C:\\Users\\bhara\\AppData\\Local\\Temp\\ipykernel_11456\\214256462.py:1: UserWarning: TypedStorage is deprecated. It will be removed in the future and UntypedStorage will be the only storage class. This should only matter to you if you are using storages directly.  To access UntypedStorage directly, use tensor.untyped_storage() instead of tensor.storage()\n",
      "  a.storage()\n"
     ]
    },
    {
     "data": {
      "text/plain": [
       " 0\n",
       " 1\n",
       " 2\n",
       " 3\n",
       " 4\n",
       " 5\n",
       " 6\n",
       " 7\n",
       " 8\n",
       " 9\n",
       " 10\n",
       " 11\n",
       " 12\n",
       " 13\n",
       " 14\n",
       " 15\n",
       " 16\n",
       " 17\n",
       "[torch.storage.TypedStorage(dtype=torch.int64, device=cpu) of size 18]"
      ]
     },
     "execution_count": 23,
     "metadata": {},
     "output_type": "execute_result"
    }
   ],
   "source": [
    "a.storage()"
   ]
  },
  {
   "cell_type": "code",
   "execution_count": 24,
   "id": "6a30f556-c3fa-4aca-b205-9c2af0f25691",
   "metadata": {},
   "outputs": [],
   "source": [
    "h = embed.view(-1,8) @ W1 + b1 # we go with embed.view"
   ]
  },
  {
   "cell_type": "code",
   "execution_count": 25,
   "id": "de9c2b37-f5dc-4312-b2d9-4cf95b6372c1",
   "metadata": {},
   "outputs": [
    {
     "data": {
      "text/plain": [
       "tensor([[ 2.5249, -0.9664, -1.4400,  ..., -2.0244, -0.0728, -2.2309],\n",
       "        [ 1.6736, -1.7898, -0.2296,  ..., -1.9207, -0.4765, -0.2857],\n",
       "        [ 0.8992, -2.2461,  1.4593,  ..., -1.0285,  0.4057,  3.6764],\n",
       "        ...,\n",
       "        [ 2.9339, -0.7297,  1.1626,  ...,  1.6560,  5.2052, -1.5346],\n",
       "        [ 2.4416, -2.8279, -0.2738,  ..., -3.1424, -5.8266, -1.1957],\n",
       "        [-6.0047,  0.4744,  0.2629,  ..., -2.5817, -4.4604,  4.7618]])"
      ]
     },
     "execution_count": 25,
     "metadata": {},
     "output_type": "execute_result"
    }
   ],
   "source": [
    "h"
   ]
  },
  {
   "cell_type": "code",
   "execution_count": 26,
   "id": "a54fb66b-7020-448a-9882-56d950fa09f4",
   "metadata": {},
   "outputs": [
    {
     "data": {
      "text/plain": [
       "torch.Size([32, 150])"
      ]
     },
     "execution_count": 26,
     "metadata": {},
     "output_type": "execute_result"
    }
   ],
   "source": [
    "h.shape"
   ]
  },
  {
   "cell_type": "code",
   "execution_count": 27,
   "id": "49c1c722-a4b6-4ad2-891e-594a3889171d",
   "metadata": {},
   "outputs": [],
   "source": [
    "#final layer\n",
    "W2 = torch.randn(150,27)\n",
    "b2 = torch.randn(27)"
   ]
  },
  {
   "cell_type": "code",
   "execution_count": 28,
   "id": "b437d263-ebff-4ba5-a76f-5a362bcb1b18",
   "metadata": {},
   "outputs": [],
   "source": [
    "logits = h @ W2 + b2 #"
   ]
  },
  {
   "cell_type": "code",
   "execution_count": 29,
   "id": "5ab79bf8-e735-4bfd-8859-3963daaee276",
   "metadata": {},
   "outputs": [
    {
     "data": {
      "text/plain": [
       "torch.Size([32, 27])"
      ]
     },
     "execution_count": 29,
     "metadata": {},
     "output_type": "execute_result"
    }
   ],
   "source": [
    "logits.shape"
   ]
  },
  {
   "cell_type": "code",
   "execution_count": 30,
   "id": "086e7e7b-4c46-453d-9c53-3752615c50d5",
   "metadata": {},
   "outputs": [],
   "source": [
    "counts = logits.exp()"
   ]
  },
  {
   "cell_type": "code",
   "execution_count": 31,
   "id": "320622cf-5a8b-4b0a-be99-5c67ac5777ea",
   "metadata": {},
   "outputs": [],
   "source": [
    "prob = counts / counts.sum(1,keepdims = True)"
   ]
  },
  {
   "cell_type": "code",
   "execution_count": 32,
   "id": "74251d98-e918-4c9c-b26b-7170fde6abd3",
   "metadata": {},
   "outputs": [
    {
     "data": {
      "text/plain": [
       "tensor([[2.1861e-37, 9.4945e-19, 5.3656e-27, 5.3072e-32, 2.1125e-23, 6.7494e-29,\n",
       "         2.8396e-18, 4.7766e-13, 3.4197e-23, 8.4893e-23, 9.6493e-31, 9.4796e-01,\n",
       "         3.0138e-25, 3.2446e-32, 9.5642e-38, 5.2037e-02, 6.7976e-23, 7.2099e-31,\n",
       "         9.7436e-21, 3.9934e-35, 1.0602e-26, 2.1412e-29, 1.3280e-10, 1.6165e-36,\n",
       "         1.5895e-32, 4.4265e-30, 1.2451e-23],\n",
       "        [5.2356e-34, 6.8038e-22, 8.5068e-29, 4.4260e-35, 1.0264e-21, 1.1461e-30,\n",
       "         4.5154e-22, 2.6464e-25, 2.0533e-24, 9.1634e-23, 5.6742e-28, 3.4995e-06,\n",
       "         5.2447e-32, 1.7140e-38, 5.7086e-39, 1.0000e+00, 1.8796e-26, 6.0430e-39,\n",
       "         4.1400e-20, 2.2393e-42, 6.4102e-35, 2.3531e-27, 8.0459e-21, 0.0000e+00,\n",
       "         2.3182e-36, 6.5318e-39, 2.7141e-28],\n",
       "        [6.6801e-18, 8.3451e-22, 1.4454e-25, 9.0853e-34, 1.6688e-08, 1.0924e-25,\n",
       "         5.1279e-26, 1.3952e-36, 3.6241e-19, 6.0362e-18, 1.5364e-17, 1.0405e-09,\n",
       "         3.8034e-31, 1.7141e-38, 5.1768e-29, 1.0000e+00, 1.7996e-28, 2.7211e-40,\n",
       "         7.4082e-20, 5.6686e-39, 1.4994e-43, 8.3388e-17, 2.0350e-38, 0.0000e+00,\n",
       "         1.4531e-42, 3.4809e-39, 1.0476e-22],\n",
       "        [3.8675e-12, 2.4157e-14, 1.7838e-19, 1.2738e-29, 1.0000e+00, 6.8838e-16,\n",
       "         3.6724e-37, 2.5158e-41, 2.3309e-18, 3.3630e-15, 1.1751e-07, 4.2294e-15,\n",
       "         1.9743e-27, 3.3185e-30, 1.1083e-18, 2.1326e-10, 1.0629e-30, 3.5557e-28,\n",
       "         3.6874e-24, 2.4061e-32, 0.0000e+00, 5.0071e-12, 0.0000e+00, 2.0266e-41,\n",
       "         3.4892e-43, 7.0976e-36, 5.6068e-13],\n",
       "        [3.6542e-17, 4.0870e-01, 8.3474e-16, 1.6815e-15, 5.9129e-01, 8.1549e-10,\n",
       "         2.0030e-38, 5.2276e-33, 6.5033e-15, 3.1504e-17, 1.1097e-15, 2.6258e-21,\n",
       "         9.1615e-29, 3.4252e-13, 2.5774e-24, 1.0388e-05, 1.4691e-27, 4.0562e-21,\n",
       "         9.7774e-24, 2.8429e-35, 6.4885e-28, 3.8899e-24, 9.5304e-40, 2.0661e-23,\n",
       "         2.0727e-22, 3.5873e-43, 5.3733e-14],\n",
       "        [2.1861e-37, 9.4945e-19, 5.3656e-27, 5.3072e-32, 2.1125e-23, 6.7494e-29,\n",
       "         2.8396e-18, 4.7766e-13, 3.4197e-23, 8.4893e-23, 9.6493e-31, 9.4796e-01,\n",
       "         3.0138e-25, 3.2446e-32, 9.5642e-38, 5.2037e-02, 6.7976e-23, 7.2099e-31,\n",
       "         9.7436e-21, 3.9934e-35, 1.0602e-26, 2.1412e-29, 1.3280e-10, 1.6165e-36,\n",
       "         1.5895e-32, 4.4265e-30, 1.2451e-23],\n",
       "        [0.0000e+00, 2.3276e-20, 5.2134e-24, 3.7473e-34, 2.8842e-25, 6.7355e-33,\n",
       "         1.6793e-20, 7.9444e-14, 6.2912e-22, 1.0365e-32, 4.2198e-36, 1.4332e-06,\n",
       "         9.3572e-32, 5.2331e-32, 0.0000e+00, 1.0000e+00, 7.8389e-28, 1.0180e-37,\n",
       "         1.6107e-23, 1.7474e-42, 1.6093e-28, 1.9851e-39, 8.0322e-12, 5.7649e-42,\n",
       "         1.2971e-29, 2.3272e-39, 1.4470e-30],\n",
       "        [0.0000e+00, 0.0000e+00, 0.0000e+00, 0.0000e+00, 0.0000e+00, 0.0000e+00,\n",
       "         0.0000e+00, 0.0000e+00, 0.0000e+00, 0.0000e+00, 0.0000e+00, 0.0000e+00,\n",
       "         0.0000e+00, 0.0000e+00, 0.0000e+00,        nan, 0.0000e+00, 0.0000e+00,\n",
       "         0.0000e+00, 0.0000e+00, 0.0000e+00, 0.0000e+00, 0.0000e+00, 0.0000e+00,\n",
       "         0.0000e+00, 0.0000e+00, 0.0000e+00],\n",
       "        [1.2958e-04, 2.0544e-30, 3.5698e-40, 5.6581e-27, 1.1284e-03, 6.6799e-26,\n",
       "         7.1164e-17, 2.5715e-28, 3.5344e-11, 3.6149e-11, 2.4060e-15, 9.9872e-01,\n",
       "         2.2369e-11, 1.3651e-28, 9.5151e-14, 2.9079e-15, 5.0821e-08, 4.0308e-14,\n",
       "         8.9073e-29, 1.6859e-05, 5.8731e-29, 7.3225e-12, 1.7038e-30, 3.3493e-30,\n",
       "         1.9520e-30, 1.1802e-26, 8.5130e-07],\n",
       "        [4.8300e-25, 5.2902e-07, 1.0019e-42, 0.0000e+00, 1.2857e-20, 9.2194e-13,\n",
       "         4.2540e-40, 0.0000e+00, 3.5354e-31, 4.5073e-14, 1.0000e+00, 4.2041e-20,\n",
       "         1.2159e-39, 7.7964e-33, 2.0054e-32, 9.5417e-26, 1.2991e-23, 1.9426e-23,\n",
       "         1.1213e-29, 1.4013e-44, 0.0000e+00, 1.0663e-10, 3.5132e-38, 1.9795e-25,\n",
       "         8.5379e-38, 0.0000e+00, 8.7121e-16],\n",
       "        [1.2619e-08, 1.0000e+00, 2.3635e-39, 6.6582e-25, 1.5676e-14, 1.2210e-14,\n",
       "         6.8173e-31, 6.2981e-19, 4.8456e-26, 7.1518e-13, 1.8796e-34, 1.1472e-14,\n",
       "         8.7198e-27, 1.3986e-13, 2.2244e-32, 1.7129e-12, 1.0010e-29, 3.0198e-28,\n",
       "         1.2885e-29, 2.4138e-36, 4.7766e-23, 1.2559e-18, 2.7394e-33, 7.5372e-19,\n",
       "         0.0000e+00, 1.3441e-31, 4.2956e-13],\n",
       "        [1.8949e-28, 2.5065e-02, 3.8316e-02, 8.9758e-11, 5.7633e-13, 1.2863e-18,\n",
       "         9.5560e-41, 4.1330e-33, 2.2283e-23, 7.3977e-16, 2.2081e-21, 3.6121e-18,\n",
       "         3.2871e-35, 1.6203e-17, 1.7013e-25, 9.3662e-01, 6.3631e-33, 1.0873e-25,\n",
       "         5.3116e-10, 0.0000e+00, 1.2709e-21, 1.0036e-22, 7.9450e-21, 5.1834e-33,\n",
       "         3.4621e-32, 4.5881e-32, 1.3259e-30],\n",
       "        [2.1861e-37, 9.4945e-19, 5.3656e-27, 5.3072e-32, 2.1125e-23, 6.7494e-29,\n",
       "         2.8396e-18, 4.7766e-13, 3.4197e-23, 8.4893e-23, 9.6493e-31, 9.4796e-01,\n",
       "         3.0138e-25, 3.2446e-32, 9.5642e-38, 5.2037e-02, 6.7976e-23, 7.2099e-31,\n",
       "         9.7436e-21, 3.9934e-35, 1.0602e-26, 2.1412e-29, 1.3280e-10, 1.6165e-36,\n",
       "         1.5895e-32, 4.4265e-30, 1.2451e-23],\n",
       "        [3.6434e-44, 1.3911e-28, 1.5424e-29, 2.7634e-42, 1.0646e-24, 9.6214e-39,\n",
       "         5.9885e-30, 1.3059e-38, 1.7074e-26, 1.3901e-35, 9.5617e-34, 3.4665e-19,\n",
       "         0.0000e+00, 1.4013e-45, 0.0000e+00, 1.0000e+00, 5.5029e-37, 0.0000e+00,\n",
       "         6.2668e-25, 0.0000e+00, 0.0000e+00, 1.1961e-38, 6.4985e-33, 0.0000e+00,\n",
       "         7.4002e-39, 0.0000e+00, 7.7688e-42],\n",
       "        [9.0478e-12, 6.7278e-31, 1.6305e-33, 3.6632e-28, 1.5319e-01, 4.7482e-28,\n",
       "         2.3645e-21, 5.2822e-25, 3.4970e-14, 4.3171e-21, 2.9810e-29, 1.1982e-06,\n",
       "         6.0321e-18, 9.3912e-38, 1.6873e-26, 8.4681e-01, 8.8472e-26, 2.8067e-36,\n",
       "         7.9850e-31, 1.0799e-20, 3.5379e-38, 2.5033e-27, 0.0000e+00, 0.0000e+00,\n",
       "         8.6290e-36, 5.2581e-29, 1.3858e-12],\n",
       "        [1.9181e-24, 3.0319e-13, 4.5717e-24, 9.7427e-27, 5.2941e-10, 6.2099e-18,\n",
       "         2.4810e-33, 0.0000e+00, 9.4614e-16, 2.7980e-15, 1.0000e+00, 5.1055e-17,\n",
       "         7.8772e-33, 1.9947e-23, 3.6060e-22, 5.3105e-15, 1.0791e-13, 2.0881e-14,\n",
       "         3.8868e-20, 6.0726e-33, 2.0643e-33, 1.6406e-15, 1.5044e-25, 1.2294e-26,\n",
       "         3.9214e-17, 0.0000e+00, 1.4718e-20],\n",
       "        [2.1861e-37, 9.4945e-19, 5.3656e-27, 5.3072e-32, 2.1125e-23, 6.7494e-29,\n",
       "         2.8396e-18, 4.7766e-13, 3.4197e-23, 8.4893e-23, 9.6493e-31, 9.4796e-01,\n",
       "         3.0138e-25, 3.2446e-32, 9.5642e-38, 5.2037e-02, 6.7976e-23, 7.2099e-31,\n",
       "         9.7436e-21, 3.9934e-35, 1.0602e-26, 2.1412e-29, 1.3280e-10, 1.6165e-36,\n",
       "         1.5895e-32, 4.4265e-30, 1.2451e-23],\n",
       "        [4.8908e-24, 3.4991e-20, 4.9480e-31, 7.0396e-33, 3.2940e-19, 1.1641e-26,\n",
       "         6.9229e-20, 2.0886e-25, 4.8202e-25, 2.8769e-13, 3.2148e-22, 5.5502e-01,\n",
       "         2.3862e-26, 8.9883e-39, 3.4841e-31, 4.4498e-01, 8.0745e-22, 3.8885e-33,\n",
       "         6.5685e-17, 5.1271e-36, 1.2798e-33, 1.6272e-17, 2.7211e-20, 5.4651e-44,\n",
       "         9.0773e-39, 5.0496e-31, 5.2400e-22],\n",
       "        [6.5779e-15, 1.2845e-11, 1.8321e-13, 2.9840e-35, 6.1565e-05, 5.9789e-19,\n",
       "         1.8166e-30, 0.0000e+00, 2.5520e-17, 9.5537e-14, 3.1094e-02, 2.8039e-12,\n",
       "         6.1048e-38, 7.8263e-34, 5.7033e-24, 9.6567e-01, 1.1948e-30, 3.3078e-40,\n",
       "         4.0441e-11, 0.0000e+00, 0.0000e+00, 3.1759e-03, 3.6465e-37, 0.0000e+00,\n",
       "         0.0000e+00, 1.3593e-43, 9.7244e-25],\n",
       "        [1.5171e-31, 2.7326e-17, 2.3908e-10, 4.2856e-35, 1.0000e+00, 9.6554e-22,\n",
       "         0.0000e+00, 9.7521e-35, 1.4448e-21, 9.8258e-41, 2.5179e-29, 7.0504e-30,\n",
       "         1.1721e-35, 2.8929e-32, 2.0227e-35, 9.0348e-11, 0.0000e+00, 0.0000e+00,\n",
       "         3.0317e-40, 1.4013e-45, 0.0000e+00, 9.7299e-40, 0.0000e+00, 0.0000e+00,\n",
       "         0.0000e+00, 1.4015e-39, 1.2141e-19],\n",
       "        [6.4001e-14, 2.8035e-26, 1.2509e-30, 5.5349e-06, 7.7691e-04, 2.5536e-26,\n",
       "         0.0000e+00, 0.0000e+00, 6.6437e-24, 2.4221e-15, 1.1381e-26, 1.1074e-34,\n",
       "         6.0536e-38, 6.7365e-37, 1.2739e-26, 9.9922e-01, 1.5179e-27, 8.1285e-32,\n",
       "         4.6416e-25, 5.6767e-42, 3.9648e-31, 1.7813e-38, 0.0000e+00, 0.0000e+00,\n",
       "         3.4470e-09, 0.0000e+00, 4.5051e-31],\n",
       "        [1.0000e+00, 8.1079e-41, 0.0000e+00, 2.3065e-17, 5.9925e-19, 6.3451e-42,\n",
       "         2.0648e-35, 1.6064e-41, 1.6921e-22, 1.8333e-25, 0.0000e+00, 9.8276e-35,\n",
       "         5.0411e-25, 1.4572e-12, 6.4899e-33, 1.4013e-43, 1.6868e-10, 1.4030e-13,\n",
       "         0.0000e+00, 7.2138e-09, 1.2678e-07, 1.0229e-43, 0.0000e+00, 3.6340e-10,\n",
       "         1.4515e-20, 0.0000e+00, 1.1670e-21],\n",
       "        [1.4703e-11, 2.8816e-07, 0.0000e+00, 1.2056e-26, 4.7394e-18, 2.7834e-14,\n",
       "         1.6815e-31, 0.0000e+00, 1.4690e-22, 5.9196e-09, 3.9527e-15, 1.6709e-28,\n",
       "         1.4500e-39, 1.9263e-18, 2.0060e-37, 3.2475e-19, 6.6590e-04, 5.6655e-16,\n",
       "         1.9043e-32, 7.7308e-38, 3.0478e-23, 2.3177e-23, 1.1383e-33, 2.1236e-10,\n",
       "         9.9933e-01, 0.0000e+00, 9.4712e-19],\n",
       "        [1.0000e+00, 5.6542e-22, 0.0000e+00, 4.8329e-26, 1.1079e-14, 1.4058e-32,\n",
       "         1.9038e-23, 9.0851e-32, 1.1921e-16, 1.0730e-26, 0.0000e+00, 3.6345e-31,\n",
       "         3.9970e-36, 7.4409e-12, 0.0000e+00, 1.4259e-17, 2.0533e-19, 7.3753e-40,\n",
       "         0.0000e+00, 2.6443e-33, 1.1427e-15, 6.9198e-39, 0.0000e+00, 5.0095e-27,\n",
       "         5.2844e-27, 0.0000e+00, 7.8641e-25],\n",
       "        [1.0010e-11, 3.2245e-14, 2.3685e-31, 4.7606e-13, 9.9997e-01, 2.4877e-17,\n",
       "         5.8973e-28, 4.5060e-35, 1.3623e-09, 1.4674e-15, 3.3762e-19, 4.2586e-18,\n",
       "         5.1694e-24, 1.5417e-16, 7.9275e-24, 2.6620e-05, 4.0692e-13, 4.2423e-17,\n",
       "         1.2059e-26, 2.7939e-23, 1.0491e-20, 1.4399e-27, 4.4841e-36, 8.3994e-24,\n",
       "         3.0715e-07, 0.0000e+00, 4.2057e-14],\n",
       "        [2.1861e-37, 9.4945e-19, 5.3656e-27, 5.3072e-32, 2.1125e-23, 6.7494e-29,\n",
       "         2.8396e-18, 4.7766e-13, 3.4197e-23, 8.4893e-23, 9.6493e-31, 9.4796e-01,\n",
       "         3.0138e-25, 3.2446e-32, 9.5642e-38, 5.2037e-02, 6.7976e-23, 7.2099e-31,\n",
       "         9.7436e-21, 3.9934e-35, 1.0602e-26, 2.1412e-29, 1.3280e-10, 1.6165e-36,\n",
       "         1.5895e-32, 4.4265e-30, 1.2451e-23],\n",
       "        [4.9950e-30, 5.7914e-32, 1.4088e-35, 4.2039e-45, 5.1949e-21, 8.1482e-38,\n",
       "         1.2193e-33, 0.0000e+00, 5.2022e-30, 2.9790e-26, 4.5671e-25, 1.2664e-21,\n",
       "         0.0000e+00, 0.0000e+00, 4.2039e-45, 1.0000e+00, 1.1853e-37, 0.0000e+00,\n",
       "         7.9581e-22, 0.0000e+00, 0.0000e+00, 2.2929e-26, 0.0000e+00, 0.0000e+00,\n",
       "         0.0000e+00, 0.0000e+00, 4.4197e-42],\n",
       "        [2.1860e-27, 1.4788e-18, 8.1408e-14, 2.6352e-28, 1.0000e+00, 9.6153e-23,\n",
       "         1.4379e-28, 5.4799e-09, 2.3673e-08, 2.0198e-35, 7.4268e-29, 1.0728e-09,\n",
       "         1.8977e-15, 1.4606e-15, 2.6113e-25, 2.0898e-14, 4.0235e-33, 7.1751e-24,\n",
       "         9.7953e-38, 1.7954e-16, 5.1174e-33, 1.2018e-32, 4.7657e-37, 5.4150e-29,\n",
       "         2.5729e-40, 1.1612e-20, 2.4512e-08],\n",
       "        [2.8240e-32, 2.7942e-23, 1.1007e-41, 6.0685e-27, 3.0556e-20, 1.7988e-24,\n",
       "         4.6299e-42, 0.0000e+00, 4.5147e-35, 3.4927e-16, 4.3406e-22, 1.2431e-25,\n",
       "         1.8712e-41, 0.0000e+00, 7.1116e-41, 1.0000e+00, 2.1914e-26, 1.0030e-36,\n",
       "         2.9009e-25, 0.0000e+00, 9.0103e-43, 1.9227e-39, 0.0000e+00, 0.0000e+00,\n",
       "         1.0171e-10, 0.0000e+00, 1.8601e-29],\n",
       "        [1.0000e+00, 1.8265e-41, 0.0000e+00, 4.7853e-28, 2.3514e-31, 0.0000e+00,\n",
       "         1.4023e-25, 9.7487e-36, 6.9865e-29, 2.6964e-19, 0.0000e+00, 3.1706e-22,\n",
       "         8.1542e-27, 1.3469e-17, 7.7084e-34, 1.2612e-44, 5.2495e-09, 8.0751e-19,\n",
       "         0.0000e+00, 1.1585e-14, 7.4375e-08, 1.7185e-27, 9.3518e-27, 4.2889e-16,\n",
       "         7.6791e-43, 9.8091e-45, 4.6484e-28],\n",
       "        [1.5939e-30, 9.7733e-01, 5.4263e-38, 0.0000e+00, 1.3586e-25, 3.9702e-10,\n",
       "         3.6434e-44, 1.4013e-45, 1.1971e-37, 9.1751e-14, 2.2668e-02, 4.5528e-19,\n",
       "         8.8226e-41, 5.4517e-33, 1.7969e-34, 1.8948e-26, 3.2457e-30, 1.6750e-24,\n",
       "         3.9656e-28, 0.0000e+00, 0.0000e+00, 3.0507e-10, 3.0199e-35, 6.7942e-23,\n",
       "         0.0000e+00, 0.0000e+00, 5.5613e-16],\n",
       "        [1.0159e-27, 9.6852e-01, 4.3038e-21, 1.3853e-24, 6.2603e-18, 1.1162e-22,\n",
       "         1.9874e-37, 4.3184e-24, 2.2808e-25, 2.3128e-28, 1.5204e-42, 2.5522e-25,\n",
       "         1.3172e-43, 3.5817e-15, 1.4013e-45, 3.1478e-02, 3.9236e-44, 0.0000e+00,\n",
       "         3.0184e-24, 0.0000e+00, 1.2152e-26, 9.1528e-33, 2.5121e-32, 7.8005e-39,\n",
       "         0.0000e+00, 2.3822e-44, 1.8081e-33]])"
      ]
     },
     "execution_count": 32,
     "metadata": {},
     "output_type": "execute_result"
    }
   ],
   "source": [
    "prob"
   ]
  },
  {
   "cell_type": "code",
   "execution_count": 33,
   "id": "110d88a7-2b3e-4489-ae42-4cfd424d29bd",
   "metadata": {},
   "outputs": [
    {
     "data": {
      "text/plain": [
       "torch.Size([32, 27])"
      ]
     },
     "execution_count": 33,
     "metadata": {},
     "output_type": "execute_result"
    }
   ],
   "source": [
    "prob.shape"
   ]
  },
  {
   "cell_type": "code",
   "execution_count": 34,
   "id": "fd33baf7-1874-46cc-9b5c-232f2fefd9ce",
   "metadata": {},
   "outputs": [
    {
     "data": {
      "text/plain": [
       "tensor(1.)"
      ]
     },
     "execution_count": 34,
     "metadata": {},
     "output_type": "execute_result"
    }
   ],
   "source": [
    "prob[10].sum()"
   ]
  },
  {
   "cell_type": "code",
   "execution_count": 37,
   "id": "8c065d6e-f0f2-40ef-8ecf-60ad03d8e076",
   "metadata": {},
   "outputs": [
    {
     "data": {
      "text/plain": [
       "tensor(inf)"
      ]
     },
     "execution_count": 37,
     "metadata": {},
     "output_type": "execute_result"
    }
   ],
   "source": [
    "loss = -prob[torch.arange(32),Y].log().mean()\n",
    "loss"
   ]
  },
  {
   "cell_type": "code",
   "execution_count": 38,
   "id": "6010df5e-1bbd-40fe-ac15-92e3f0bbdb40",
   "metadata": {},
   "outputs": [
    {
     "data": {
      "text/plain": [
       "(torch.Size([32, 4]), torch.Size([32]))"
      ]
     },
     "execution_count": 38,
     "metadata": {},
     "output_type": "execute_result"
    }
   ],
   "source": [
    "#now we are again rearanging everything\n",
    "X.shape, Y.shape"
   ]
  },
  {
   "cell_type": "code",
   "execution_count": 111,
   "id": "5929749a-e6ba-4f0d-82b9-b5deb68d4011",
   "metadata": {},
   "outputs": [],
   "source": [
    "g = torch.Generator().manual_seed(2147483647)\n",
    "C = torch.randn((27,2),generator = g)\n",
    "W1 = torch.randn((8,150),generator=g)\n",
    "b1 = torch.randn(150,generator = g)\n",
    "W2 = torch.randn((150,27),generator=g)\n",
    "b2 = torch.randn(27,generator=g)\n",
    "prameters = [C,W1,b2,W2,b2]"
   ]
  },
  {
   "cell_type": "code",
   "execution_count": 112,
   "id": "51973e88-8e92-46a2-bb42-3f3772f22665",
   "metadata": {},
   "outputs": [
    {
     "data": {
      "text/plain": [
       "5358"
      ]
     },
     "execution_count": 112,
     "metadata": {},
     "output_type": "execute_result"
    }
   ],
   "source": [
    "sum(p.nelement() for p in prameters) #number of parameters"
   ]
  },
  {
   "cell_type": "code",
   "execution_count": 41,
   "id": "484dbed9-04ca-451e-910c-bdc9a5f0c418",
   "metadata": {},
   "outputs": [
    {
     "data": {
      "text/plain": [
       "tensor(17.7180)"
      ]
     },
     "execution_count": 41,
     "metadata": {},
     "output_type": "execute_result"
    }
   ],
   "source": [
    "emb = C[X]\n",
    "h = torch.tanh(emb.view(-1,8)@W1 + b1)\n",
    "logits = h@W2 + b2\n",
    "#classification which is similar to cross_entropy \n",
    "counts = logits.exp()\n",
    "prob = counts/counts.sum(1,keepdims=True)\n",
    "loss = -prob[torch.arange(32),Y].log().mean()\n",
    "loss"
   ]
  },
  {
   "cell_type": "code",
   "execution_count": 42,
   "id": "52d1d3b8-9fdb-4443-8229-378133a44f9e",
   "metadata": {},
   "outputs": [
    {
     "data": {
      "text/plain": [
       "tensor(17.7180)"
      ]
     },
     "execution_count": 42,
     "metadata": {},
     "output_type": "execute_result"
    }
   ],
   "source": [
    "#the logits and labels can be given to cross entropy to get the loss\n",
    "# this is very efficient way instead as of implemting as above counts,prob and loss this is done for understanding purpose and what cross entropy is really mean\n",
    "# Using the cross entropy function torch clustures the expression and it will be very easy to implement the backward operation too\n",
    "# So we use the cross_entropy from now on\n",
    "\n",
    "loss = F.cross_entropy(logits,Y)"
   ]
  },
  {
   "cell_type": "code",
   "execution_count": 46,
   "id": "8c5034bd-5eea-4c6e-94b4-91c2d3048c82",
   "metadata": {},
   "outputs": [
    {
     "data": {
      "text/plain": [
       "(tensor([0., 0., 0., 1.]), tensor([0., 0., 0., 1.]))"
      ]
     },
     "execution_count": 46,
     "metadata": {},
     "output_type": "execute_result"
    }
   ],
   "source": [
    "#other problem using the direct function instead of cross entropy is following\n",
    "# e^1000 = inf and e^-1000 = 0 so this is exploding \n",
    "logits = torch.tensor([-1000,-1,0,1000]) # - 1000 #here torch will subtract the highest number from the tensor\n",
    "counts = logits.exp()\n",
    "probs = counts/counts.sum()\n",
    "counts,probs #the nan is a problem here which the crossentropy will solve"
   ]
  },
  {
   "cell_type": "code",
   "execution_count": 119,
   "id": "1228c43f-c530-4c21-a373-5b20d871794b",
   "metadata": {},
   "outputs": [],
   "source": [
    "for p in prameters:\n",
    "    p.requires_grad = True"
   ]
  },
  {
   "cell_type": "code",
   "execution_count": 120,
   "id": "fedd4d7b-6c49-471e-9c33-8164b1783dce",
   "metadata": {},
   "outputs": [
    {
     "data": {
      "text/plain": [
       "tensor([0.0010, 0.0010, 0.0010, 0.0010, 0.0010, 0.0010, 0.0010, 0.0010, 0.0011,\n",
       "        0.0011, 0.0011, 0.0011, 0.0011, 0.0011, 0.0011, 0.0011, 0.0011, 0.0011,\n",
       "        0.0011, 0.0011, 0.0011, 0.0012, 0.0012, 0.0012, 0.0012, 0.0012, 0.0012,\n",
       "        0.0012, 0.0012, 0.0012, 0.0012, 0.0012, 0.0012, 0.0013, 0.0013, 0.0013,\n",
       "        0.0013, 0.0013, 0.0013, 0.0013, 0.0013, 0.0013, 0.0013, 0.0013, 0.0014,\n",
       "        0.0014, 0.0014, 0.0014, 0.0014, 0.0014, 0.0014, 0.0014, 0.0014, 0.0014,\n",
       "        0.0015, 0.0015, 0.0015, 0.0015, 0.0015, 0.0015, 0.0015, 0.0015, 0.0015,\n",
       "        0.0015, 0.0016, 0.0016, 0.0016, 0.0016, 0.0016, 0.0016, 0.0016, 0.0016,\n",
       "        0.0016, 0.0017, 0.0017, 0.0017, 0.0017, 0.0017, 0.0017, 0.0017, 0.0017,\n",
       "        0.0018, 0.0018, 0.0018, 0.0018, 0.0018, 0.0018, 0.0018, 0.0018, 0.0019,\n",
       "        0.0019, 0.0019, 0.0019, 0.0019, 0.0019, 0.0019, 0.0019, 0.0020, 0.0020,\n",
       "        0.0020, 0.0020, 0.0020, 0.0020, 0.0020, 0.0021, 0.0021, 0.0021, 0.0021,\n",
       "        0.0021, 0.0021, 0.0021, 0.0022, 0.0022, 0.0022, 0.0022, 0.0022, 0.0022,\n",
       "        0.0022, 0.0023, 0.0023, 0.0023, 0.0023, 0.0023, 0.0023, 0.0024, 0.0024,\n",
       "        0.0024, 0.0024, 0.0024, 0.0024, 0.0025, 0.0025, 0.0025, 0.0025, 0.0025,\n",
       "        0.0025, 0.0026, 0.0026, 0.0026, 0.0026, 0.0026, 0.0027, 0.0027, 0.0027,\n",
       "        0.0027, 0.0027, 0.0027, 0.0028, 0.0028, 0.0028, 0.0028, 0.0028, 0.0029,\n",
       "        0.0029, 0.0029, 0.0029, 0.0029, 0.0030, 0.0030, 0.0030, 0.0030, 0.0030,\n",
       "        0.0031, 0.0031, 0.0031, 0.0031, 0.0032, 0.0032, 0.0032, 0.0032, 0.0032,\n",
       "        0.0033, 0.0033, 0.0033, 0.0033, 0.0034, 0.0034, 0.0034, 0.0034, 0.0034,\n",
       "        0.0035, 0.0035, 0.0035, 0.0035, 0.0036, 0.0036, 0.0036, 0.0036, 0.0037,\n",
       "        0.0037, 0.0037, 0.0037, 0.0038, 0.0038, 0.0038, 0.0039, 0.0039, 0.0039,\n",
       "        0.0039, 0.0040, 0.0040, 0.0040, 0.0040, 0.0041, 0.0041, 0.0041, 0.0042,\n",
       "        0.0042, 0.0042, 0.0042, 0.0043, 0.0043, 0.0043, 0.0044, 0.0044, 0.0044,\n",
       "        0.0045, 0.0045, 0.0045, 0.0045, 0.0046, 0.0046, 0.0046, 0.0047, 0.0047,\n",
       "        0.0047, 0.0048, 0.0048, 0.0048, 0.0049, 0.0049, 0.0049, 0.0050, 0.0050,\n",
       "        0.0050, 0.0051, 0.0051, 0.0051, 0.0052, 0.0052, 0.0053, 0.0053, 0.0053,\n",
       "        0.0054, 0.0054, 0.0054, 0.0055, 0.0055, 0.0056, 0.0056, 0.0056, 0.0057,\n",
       "        0.0057, 0.0058, 0.0058, 0.0058, 0.0059, 0.0059, 0.0060, 0.0060, 0.0060,\n",
       "        0.0061, 0.0061, 0.0062, 0.0062, 0.0062, 0.0063, 0.0063, 0.0064, 0.0064,\n",
       "        0.0065, 0.0065, 0.0066, 0.0066, 0.0067, 0.0067, 0.0067, 0.0068, 0.0068,\n",
       "        0.0069, 0.0069, 0.0070, 0.0070, 0.0071, 0.0071, 0.0072, 0.0072, 0.0073,\n",
       "        0.0073, 0.0074, 0.0074, 0.0075, 0.0075, 0.0076, 0.0076, 0.0077, 0.0077,\n",
       "        0.0078, 0.0079, 0.0079, 0.0080, 0.0080, 0.0081, 0.0081, 0.0082, 0.0082,\n",
       "        0.0083, 0.0084, 0.0084, 0.0085, 0.0085, 0.0086, 0.0086, 0.0087, 0.0088,\n",
       "        0.0088, 0.0089, 0.0090, 0.0090, 0.0091, 0.0091, 0.0092, 0.0093, 0.0093,\n",
       "        0.0094, 0.0095, 0.0095, 0.0096, 0.0097, 0.0097, 0.0098, 0.0099, 0.0099,\n",
       "        0.0100, 0.0101, 0.0101, 0.0102, 0.0103, 0.0104, 0.0104, 0.0105, 0.0106,\n",
       "        0.0106, 0.0107, 0.0108, 0.0109, 0.0109, 0.0110, 0.0111, 0.0112, 0.0112,\n",
       "        0.0113, 0.0114, 0.0115, 0.0116, 0.0116, 0.0117, 0.0118, 0.0119, 0.0120,\n",
       "        0.0121, 0.0121, 0.0122, 0.0123, 0.0124, 0.0125, 0.0126, 0.0127, 0.0127,\n",
       "        0.0128, 0.0129, 0.0130, 0.0131, 0.0132, 0.0133, 0.0134, 0.0135, 0.0136,\n",
       "        0.0137, 0.0137, 0.0138, 0.0139, 0.0140, 0.0141, 0.0142, 0.0143, 0.0144,\n",
       "        0.0145, 0.0146, 0.0147, 0.0148, 0.0149, 0.0150, 0.0151, 0.0152, 0.0154,\n",
       "        0.0155, 0.0156, 0.0157, 0.0158, 0.0159, 0.0160, 0.0161, 0.0162, 0.0163,\n",
       "        0.0165, 0.0166, 0.0167, 0.0168, 0.0169, 0.0170, 0.0171, 0.0173, 0.0174,\n",
       "        0.0175, 0.0176, 0.0178, 0.0179, 0.0180, 0.0181, 0.0182, 0.0184, 0.0185,\n",
       "        0.0186, 0.0188, 0.0189, 0.0190, 0.0192, 0.0193, 0.0194, 0.0196, 0.0197,\n",
       "        0.0198, 0.0200, 0.0201, 0.0202, 0.0204, 0.0205, 0.0207, 0.0208, 0.0210,\n",
       "        0.0211, 0.0212, 0.0214, 0.0215, 0.0217, 0.0218, 0.0220, 0.0221, 0.0223,\n",
       "        0.0225, 0.0226, 0.0228, 0.0229, 0.0231, 0.0232, 0.0234, 0.0236, 0.0237,\n",
       "        0.0239, 0.0241, 0.0242, 0.0244, 0.0246, 0.0247, 0.0249, 0.0251, 0.0253,\n",
       "        0.0254, 0.0256, 0.0258, 0.0260, 0.0261, 0.0263, 0.0265, 0.0267, 0.0269,\n",
       "        0.0271, 0.0273, 0.0274, 0.0276, 0.0278, 0.0280, 0.0282, 0.0284, 0.0286,\n",
       "        0.0288, 0.0290, 0.0292, 0.0294, 0.0296, 0.0298, 0.0300, 0.0302, 0.0304,\n",
       "        0.0307, 0.0309, 0.0311, 0.0313, 0.0315, 0.0317, 0.0320, 0.0322, 0.0324,\n",
       "        0.0326, 0.0328, 0.0331, 0.0333, 0.0335, 0.0338, 0.0340, 0.0342, 0.0345,\n",
       "        0.0347, 0.0350, 0.0352, 0.0354, 0.0357, 0.0359, 0.0362, 0.0364, 0.0367,\n",
       "        0.0369, 0.0372, 0.0375, 0.0377, 0.0380, 0.0382, 0.0385, 0.0388, 0.0390,\n",
       "        0.0393, 0.0396, 0.0399, 0.0401, 0.0404, 0.0407, 0.0410, 0.0413, 0.0416,\n",
       "        0.0418, 0.0421, 0.0424, 0.0427, 0.0430, 0.0433, 0.0436, 0.0439, 0.0442,\n",
       "        0.0445, 0.0448, 0.0451, 0.0455, 0.0458, 0.0461, 0.0464, 0.0467, 0.0471,\n",
       "        0.0474, 0.0477, 0.0480, 0.0484, 0.0487, 0.0491, 0.0494, 0.0497, 0.0501,\n",
       "        0.0504, 0.0508, 0.0511, 0.0515, 0.0518, 0.0522, 0.0526, 0.0529, 0.0533,\n",
       "        0.0537, 0.0540, 0.0544, 0.0548, 0.0552, 0.0556, 0.0559, 0.0563, 0.0567,\n",
       "        0.0571, 0.0575, 0.0579, 0.0583, 0.0587, 0.0591, 0.0595, 0.0599, 0.0604,\n",
       "        0.0608, 0.0612, 0.0616, 0.0621, 0.0625, 0.0629, 0.0634, 0.0638, 0.0642,\n",
       "        0.0647, 0.0651, 0.0656, 0.0660, 0.0665, 0.0670, 0.0674, 0.0679, 0.0684,\n",
       "        0.0688, 0.0693, 0.0698, 0.0703, 0.0708, 0.0713, 0.0718, 0.0723, 0.0728,\n",
       "        0.0733, 0.0738, 0.0743, 0.0748, 0.0753, 0.0758, 0.0764, 0.0769, 0.0774,\n",
       "        0.0780, 0.0785, 0.0790, 0.0796, 0.0802, 0.0807, 0.0813, 0.0818, 0.0824,\n",
       "        0.0830, 0.0835, 0.0841, 0.0847, 0.0853, 0.0859, 0.0865, 0.0871, 0.0877,\n",
       "        0.0883, 0.0889, 0.0895, 0.0901, 0.0908, 0.0914, 0.0920, 0.0927, 0.0933,\n",
       "        0.0940, 0.0946, 0.0953, 0.0959, 0.0966, 0.0973, 0.0979, 0.0986, 0.0993,\n",
       "        0.1000, 0.1007, 0.1014, 0.1021, 0.1028, 0.1035, 0.1042, 0.1050, 0.1057,\n",
       "        0.1064, 0.1072, 0.1079, 0.1087, 0.1094, 0.1102, 0.1109, 0.1117, 0.1125,\n",
       "        0.1133, 0.1140, 0.1148, 0.1156, 0.1164, 0.1172, 0.1181, 0.1189, 0.1197,\n",
       "        0.1205, 0.1214, 0.1222, 0.1231, 0.1239, 0.1248, 0.1256, 0.1265, 0.1274,\n",
       "        0.1283, 0.1292, 0.1301, 0.1310, 0.1319, 0.1328, 0.1337, 0.1346, 0.1356,\n",
       "        0.1365, 0.1374, 0.1384, 0.1394, 0.1403, 0.1413, 0.1423, 0.1433, 0.1443,\n",
       "        0.1453, 0.1463, 0.1473, 0.1483, 0.1493, 0.1504, 0.1514, 0.1525, 0.1535,\n",
       "        0.1546, 0.1557, 0.1567, 0.1578, 0.1589, 0.1600, 0.1611, 0.1623, 0.1634,\n",
       "        0.1645, 0.1657, 0.1668, 0.1680, 0.1691, 0.1703, 0.1715, 0.1727, 0.1739,\n",
       "        0.1751, 0.1763, 0.1775, 0.1788, 0.1800, 0.1812, 0.1825, 0.1838, 0.1850,\n",
       "        0.1863, 0.1876, 0.1889, 0.1902, 0.1916, 0.1929, 0.1942, 0.1956, 0.1969,\n",
       "        0.1983, 0.1997, 0.2010, 0.2024, 0.2038, 0.2053, 0.2067, 0.2081, 0.2096,\n",
       "        0.2110, 0.2125, 0.2140, 0.2154, 0.2169, 0.2184, 0.2200, 0.2215, 0.2230,\n",
       "        0.2246, 0.2261, 0.2277, 0.2293, 0.2309, 0.2325, 0.2341, 0.2357, 0.2373,\n",
       "        0.2390, 0.2406, 0.2423, 0.2440, 0.2457, 0.2474, 0.2491, 0.2508, 0.2526,\n",
       "        0.2543, 0.2561, 0.2579, 0.2597, 0.2615, 0.2633, 0.2651, 0.2669, 0.2688,\n",
       "        0.2707, 0.2725, 0.2744, 0.2763, 0.2783, 0.2802, 0.2821, 0.2841, 0.2861,\n",
       "        0.2880, 0.2900, 0.2921, 0.2941, 0.2961, 0.2982, 0.3002, 0.3023, 0.3044,\n",
       "        0.3065, 0.3087, 0.3108, 0.3130, 0.3151, 0.3173, 0.3195, 0.3217, 0.3240,\n",
       "        0.3262, 0.3285, 0.3308, 0.3331, 0.3354, 0.3377, 0.3400, 0.3424, 0.3448,\n",
       "        0.3472, 0.3496, 0.3520, 0.3544, 0.3569, 0.3594, 0.3619, 0.3644, 0.3669,\n",
       "        0.3695, 0.3720, 0.3746, 0.3772, 0.3798, 0.3825, 0.3851, 0.3878, 0.3905,\n",
       "        0.3932, 0.3959, 0.3987, 0.4014, 0.4042, 0.4070, 0.4098, 0.4127, 0.4155,\n",
       "        0.4184, 0.4213, 0.4243, 0.4272, 0.4302, 0.4331, 0.4362, 0.4392, 0.4422,\n",
       "        0.4453, 0.4484, 0.4515, 0.4546, 0.4578, 0.4610, 0.4642, 0.4674, 0.4706,\n",
       "        0.4739, 0.4772, 0.4805, 0.4838, 0.4872, 0.4906, 0.4940, 0.4974, 0.5008,\n",
       "        0.5043, 0.5078, 0.5113, 0.5149, 0.5185, 0.5221, 0.5257, 0.5293, 0.5330,\n",
       "        0.5367, 0.5404, 0.5442, 0.5479, 0.5517, 0.5556, 0.5594, 0.5633, 0.5672,\n",
       "        0.5712, 0.5751, 0.5791, 0.5831, 0.5872, 0.5913, 0.5954, 0.5995, 0.6036,\n",
       "        0.6078, 0.6120, 0.6163, 0.6206, 0.6249, 0.6292, 0.6336, 0.6380, 0.6424,\n",
       "        0.6469, 0.6513, 0.6559, 0.6604, 0.6650, 0.6696, 0.6743, 0.6789, 0.6837,\n",
       "        0.6884, 0.6932, 0.6980, 0.7028, 0.7077, 0.7126, 0.7176, 0.7225, 0.7275,\n",
       "        0.7326, 0.7377, 0.7428, 0.7480, 0.7531, 0.7584, 0.7636, 0.7689, 0.7743,\n",
       "        0.7796, 0.7850, 0.7905, 0.7960, 0.8015, 0.8071, 0.8127, 0.8183, 0.8240,\n",
       "        0.8297, 0.8355, 0.8412, 0.8471, 0.8530, 0.8589, 0.8648, 0.8708, 0.8769,\n",
       "        0.8830, 0.8891, 0.8953, 0.9015, 0.9077, 0.9140, 0.9204, 0.9268, 0.9332,\n",
       "        0.9397, 0.9462, 0.9528, 0.9594, 0.9660, 0.9727, 0.9795, 0.9863, 0.9931,\n",
       "        1.0000])"
      ]
     },
     "execution_count": 120,
     "metadata": {},
     "output_type": "execute_result"
    }
   ],
   "source": [
    "#here we aregoing to get the best learning rate for the model \n",
    "learning_rate = torch.linspace(-3,0,1000)\n",
    "lrs = 10**learning_rate\n",
    "lrs"
   ]
  },
  {
   "cell_type": "code",
   "execution_count": 125,
   "id": "a719952f-9898-4d5e-a143-0342291ed246",
   "metadata": {},
   "outputs": [
    {
     "name": "stdout",
     "output_type": "stream",
     "text": [
      "2.0913288593292236\n"
     ]
    }
   ],
   "source": [
    "lri = []\n",
    "loss_lr = []\n",
    "# training of this neural network\n",
    "for i in range(10000):\n",
    "    # minibatch construct\n",
    "    ix = torch.randint(0,X.shape[0],(32,))\n",
    "    # forward pass\n",
    "    emb = C[X[ix]] #(32,4,2)\n",
    "    h = torch.tanh(emb.view(-1,8) @ W1 + b1 ) # (32,150)\n",
    "    logits = h @ W2 + b2 # (32,27)\n",
    "    loss = F.cross_entropy(logits,Y[ix])\n",
    "    # print(loss.item())\n",
    "    #backward pass\n",
    "    for p in prameters:\n",
    "        p.grad = None\n",
    "    loss.backward()\n",
    "    #update\n",
    "    # lr = lrs[i]\n",
    "    lr = 0.01\n",
    "    for p in prameters:\n",
    "        p.data += -lr * p.grad\n",
    "    # tracking stats\n",
    "    # lri.append(learning_rate[i])\n",
    "    # loss_lr.append(loss.item())\n",
    "\n",
    "print(loss.item()) #we are only training of 32 outputs so we are overfitting the model so low loss and great predictions\n"
   ]
  },
  {
   "cell_type": "code",
   "execution_count": 65,
   "id": "401b6d2d-3249-4bd6-b245-ab82e5bec116",
   "metadata": {},
   "outputs": [
    {
     "data": {
      "text/plain": [
       "tensor([ 13687, 149439,   7940, 134801, 126631, 140011,  79320, 172351,  34867,\n",
       "         95269, 219300, 145564, 113733,  88367, 115475,  84613,  82469,  20305,\n",
       "        118382, 211064, 125105, 158518, 132567,  27652, 142853,  26082, 129881,\n",
       "          9586, 171617, 151366, 167743, 120512])"
      ]
     },
     "execution_count": 65,
     "metadata": {},
     "output_type": "execute_result"
    }
   ],
   "source": [
    "#but here the main problem is we need to iterate on 224000 examples so we are going to batch\n",
    "torch.randint(0,X.shape[0],(32,))"
   ]
  },
  {
   "cell_type": "code",
   "execution_count": 122,
   "id": "ea47c367-8bf7-4b12-a149-e19d6d62e966",
   "metadata": {
    "scrolled": true
   },
   "outputs": [
    {
     "data": {
      "text/plain": [
       "[<matplotlib.lines.Line2D at 0x2a252923910>]"
      ]
     },
     "execution_count": 122,
     "metadata": {},
     "output_type": "execute_result"
    },
    {
     "data": {
      "image/png": "[encoded data removed]",
      "text/plain": [
       "<Figure size 640x480 with 1 Axes>"
      ]
     },
     "metadata": {},
     "output_type": "display_data"
    }
   ],
   "source": [
    "plt.plot(lri,loss_lr)"
   ]
  },
  {
   "cell_type": "code",
   "execution_count": 133,
   "id": "92220760-3f8a-4b71-a2dc-8415e998e6cb",
   "metadata": {},
   "outputs": [
    {
     "name": "stdout",
     "output_type": "stream",
     "text": [
      "torch.Size([182437, 4]) torch.Size([182437])\n",
      "torch.Size([22781, 4]) torch.Size([22781])\n",
      "torch.Size([22928, 4]) torch.Size([22928])\n"
     ]
    }
   ],
   "source": [
    "# the loss is pretty good than makemore_1 bigram model but we are overfitting the model so we are going to divide the model into train/test/valid set\n",
    "# train,dev/validation and test (80,10,10% of data)\n",
    "# train - to optimize parametes\n",
    "# dev - to learn the hyperparameters\n",
    "# test - to evaluate the performance of model\n",
    "#building the dataset\n",
    "def build_dataset(words):\n",
    "    block_size = 4 #after how many words we take so we take 4 words to predict 5th word\n",
    "    X,Y = [],[]\n",
    "    for w in words:\n",
    "        # print(w)\n",
    "        context = [0] * block_size\n",
    "        for ch in w + '.':\n",
    "            ix = stoi[ch]\n",
    "            # print(context,ix)\n",
    "            X.append(context)\n",
    "            Y.append(ix)\n",
    "            # print(''.join(itos[i] for i in context), '---->', itos[ix])\n",
    "            context = context[1:] + [ix] #crop and append\n",
    "    X = torch.tensor(X)\n",
    "    Y = torch.tensor(Y)\n",
    "    print(X.shape,Y.shape)\n",
    "    return X,Y\n",
    "\n",
    "import random\n",
    "random.seed(42)\n",
    "random.shuffle(words)\n",
    "n1 = int(0.8*len(words))\n",
    "n2 = int(0.9*len(words))\n",
    "\n",
    "X_train,Y_train = build_dataset(words[:n1])\n",
    "X_dev,Y_dev = build_dataset(words[n1:n2])\n",
    "X_test, Y_test = build_dataset(words[n2:])"
   ]
  },
  {
   "cell_type": "code",
   "execution_count": 168,
   "id": "0ea5f7cb-d15a-4cd8-a71f-a86c7a632fbc",
   "metadata": {},
   "outputs": [],
   "source": [
    "g = torch.Generator().manual_seed(2147483647)\n",
    "C = torch.randn((27,30),generator = g) \n",
    "W1 = torch.randn((120,300),generator=g)\n",
    "b1 = torch.randn(300,generator = g)\n",
    "W2 = torch.randn((300,27),generator=g)\n",
    "b2 = torch.randn(27,generator=g)\n",
    "prameters = [C,W1,b2,W2,b2]"
   ]
  },
  {
   "cell_type": "code",
   "execution_count": 169,
   "id": "8af4e9e1-935f-41bf-a647-8bc2e99a3483",
   "metadata": {},
   "outputs": [
    {
     "data": {
      "text/plain": [
       "44964"
      ]
     },
     "execution_count": 169,
     "metadata": {},
     "output_type": "execute_result"
    }
   ],
   "source": [
    "sum(p.nelement() for p in prameters) #number of parameters"
   ]
  },
  {
   "cell_type": "code",
   "execution_count": 170,
   "id": "bc01d531-dbe8-4a95-b1e7-c66aa97f1355",
   "metadata": {},
   "outputs": [],
   "source": [
    "for p in prameters:\n",
    "    p.requires_grad = True"
   ]
  },
  {
   "cell_type": "code",
   "execution_count": 171,
   "id": "3c68ac2c-be23-4983-a421-d57a25531198",
   "metadata": {},
   "outputs": [
    {
     "data": {
      "text/plain": [
       "tensor([0.0010, 0.0010, 0.0010, 0.0010, 0.0010, 0.0010, 0.0010, 0.0010, 0.0011,\n",
       "        0.0011, 0.0011, 0.0011, 0.0011, 0.0011, 0.0011, 0.0011, 0.0011, 0.0011,\n",
       "        0.0011, 0.0011, 0.0011, 0.0012, 0.0012, 0.0012, 0.0012, 0.0012, 0.0012,\n",
       "        0.0012, 0.0012, 0.0012, 0.0012, 0.0012, 0.0012, 0.0013, 0.0013, 0.0013,\n",
       "        0.0013, 0.0013, 0.0013, 0.0013, 0.0013, 0.0013, 0.0013, 0.0013, 0.0014,\n",
       "        0.0014, 0.0014, 0.0014, 0.0014, 0.0014, 0.0014, 0.0014, 0.0014, 0.0014,\n",
       "        0.0015, 0.0015, 0.0015, 0.0015, 0.0015, 0.0015, 0.0015, 0.0015, 0.0015,\n",
       "        0.0015, 0.0016, 0.0016, 0.0016, 0.0016, 0.0016, 0.0016, 0.0016, 0.0016,\n",
       "        0.0016, 0.0017, 0.0017, 0.0017, 0.0017, 0.0017, 0.0017, 0.0017, 0.0017,\n",
       "        0.0018, 0.0018, 0.0018, 0.0018, 0.0018, 0.0018, 0.0018, 0.0018, 0.0019,\n",
       "        0.0019, 0.0019, 0.0019, 0.0019, 0.0019, 0.0019, 0.0019, 0.0020, 0.0020,\n",
       "        0.0020, 0.0020, 0.0020, 0.0020, 0.0020, 0.0021, 0.0021, 0.0021, 0.0021,\n",
       "        0.0021, 0.0021, 0.0021, 0.0022, 0.0022, 0.0022, 0.0022, 0.0022, 0.0022,\n",
       "        0.0022, 0.0023, 0.0023, 0.0023, 0.0023, 0.0023, 0.0023, 0.0024, 0.0024,\n",
       "        0.0024, 0.0024, 0.0024, 0.0024, 0.0025, 0.0025, 0.0025, 0.0025, 0.0025,\n",
       "        0.0025, 0.0026, 0.0026, 0.0026, 0.0026, 0.0026, 0.0027, 0.0027, 0.0027,\n",
       "        0.0027, 0.0027, 0.0027, 0.0028, 0.0028, 0.0028, 0.0028, 0.0028, 0.0029,\n",
       "        0.0029, 0.0029, 0.0029, 0.0029, 0.0030, 0.0030, 0.0030, 0.0030, 0.0030,\n",
       "        0.0031, 0.0031, 0.0031, 0.0031, 0.0032, 0.0032, 0.0032, 0.0032, 0.0032,\n",
       "        0.0033, 0.0033, 0.0033, 0.0033, 0.0034, 0.0034, 0.0034, 0.0034, 0.0034,\n",
       "        0.0035, 0.0035, 0.0035, 0.0035, 0.0036, 0.0036, 0.0036, 0.0036, 0.0037,\n",
       "        0.0037, 0.0037, 0.0037, 0.0038, 0.0038, 0.0038, 0.0039, 0.0039, 0.0039,\n",
       "        0.0039, 0.0040, 0.0040, 0.0040, 0.0040, 0.0041, 0.0041, 0.0041, 0.0042,\n",
       "        0.0042, 0.0042, 0.0042, 0.0043, 0.0043, 0.0043, 0.0044, 0.0044, 0.0044,\n",
       "        0.0045, 0.0045, 0.0045, 0.0045, 0.0046, 0.0046, 0.0046, 0.0047, 0.0047,\n",
       "        0.0047, 0.0048, 0.0048, 0.0048, 0.0049, 0.0049, 0.0049, 0.0050, 0.0050,\n",
       "        0.0050, 0.0051, 0.0051, 0.0051, 0.0052, 0.0052, 0.0053, 0.0053, 0.0053,\n",
       "        0.0054, 0.0054, 0.0054, 0.0055, 0.0055, 0.0056, 0.0056, 0.0056, 0.0057,\n",
       "        0.0057, 0.0058, 0.0058, 0.0058, 0.0059, 0.0059, 0.0060, 0.0060, 0.0060,\n",
       "        0.0061, 0.0061, 0.0062, 0.0062, 0.0062, 0.0063, 0.0063, 0.0064, 0.0064,\n",
       "        0.0065, 0.0065, 0.0066, 0.0066, 0.0067, 0.0067, 0.0067, 0.0068, 0.0068,\n",
       "        0.0069, 0.0069, 0.0070, 0.0070, 0.0071, 0.0071, 0.0072, 0.0072, 0.0073,\n",
       "        0.0073, 0.0074, 0.0074, 0.0075, 0.0075, 0.0076, 0.0076, 0.0077, 0.0077,\n",
       "        0.0078, 0.0079, 0.0079, 0.0080, 0.0080, 0.0081, 0.0081, 0.0082, 0.0082,\n",
       "        0.0083, 0.0084, 0.0084, 0.0085, 0.0085, 0.0086, 0.0086, 0.0087, 0.0088,\n",
       "        0.0088, 0.0089, 0.0090, 0.0090, 0.0091, 0.0091, 0.0092, 0.0093, 0.0093,\n",
       "        0.0094, 0.0095, 0.0095, 0.0096, 0.0097, 0.0097, 0.0098, 0.0099, 0.0099,\n",
       "        0.0100, 0.0101, 0.0101, 0.0102, 0.0103, 0.0104, 0.0104, 0.0105, 0.0106,\n",
       "        0.0106, 0.0107, 0.0108, 0.0109, 0.0109, 0.0110, 0.0111, 0.0112, 0.0112,\n",
       "        0.0113, 0.0114, 0.0115, 0.0116, 0.0116, 0.0117, 0.0118, 0.0119, 0.0120,\n",
       "        0.0121, 0.0121, 0.0122, 0.0123, 0.0124, 0.0125, 0.0126, 0.0127, 0.0127,\n",
       "        0.0128, 0.0129, 0.0130, 0.0131, 0.0132, 0.0133, 0.0134, 0.0135, 0.0136,\n",
       "        0.0137, 0.0137, 0.0138, 0.0139, 0.0140, 0.0141, 0.0142, 0.0143, 0.0144,\n",
       "        0.0145, 0.0146, 0.0147, 0.0148, 0.0149, 0.0150, 0.0151, 0.0152, 0.0154,\n",
       "        0.0155, 0.0156, 0.0157, 0.0158, 0.0159, 0.0160, 0.0161, 0.0162, 0.0163,\n",
       "        0.0165, 0.0166, 0.0167, 0.0168, 0.0169, 0.0170, 0.0171, 0.0173, 0.0174,\n",
       "        0.0175, 0.0176, 0.0178, 0.0179, 0.0180, 0.0181, 0.0182, 0.0184, 0.0185,\n",
       "        0.0186, 0.0188, 0.0189, 0.0190, 0.0192, 0.0193, 0.0194, 0.0196, 0.0197,\n",
       "        0.0198, 0.0200, 0.0201, 0.0202, 0.0204, 0.0205, 0.0207, 0.0208, 0.0210,\n",
       "        0.0211, 0.0212, 0.0214, 0.0215, 0.0217, 0.0218, 0.0220, 0.0221, 0.0223,\n",
       "        0.0225, 0.0226, 0.0228, 0.0229, 0.0231, 0.0232, 0.0234, 0.0236, 0.0237,\n",
       "        0.0239, 0.0241, 0.0242, 0.0244, 0.0246, 0.0247, 0.0249, 0.0251, 0.0253,\n",
       "        0.0254, 0.0256, 0.0258, 0.0260, 0.0261, 0.0263, 0.0265, 0.0267, 0.0269,\n",
       "        0.0271, 0.0273, 0.0274, 0.0276, 0.0278, 0.0280, 0.0282, 0.0284, 0.0286,\n",
       "        0.0288, 0.0290, 0.0292, 0.0294, 0.0296, 0.0298, 0.0300, 0.0302, 0.0304,\n",
       "        0.0307, 0.0309, 0.0311, 0.0313, 0.0315, 0.0317, 0.0320, 0.0322, 0.0324,\n",
       "        0.0326, 0.0328, 0.0331, 0.0333, 0.0335, 0.0338, 0.0340, 0.0342, 0.0345,\n",
       "        0.0347, 0.0350, 0.0352, 0.0354, 0.0357, 0.0359, 0.0362, 0.0364, 0.0367,\n",
       "        0.0369, 0.0372, 0.0375, 0.0377, 0.0380, 0.0382, 0.0385, 0.0388, 0.0390,\n",
       "        0.0393, 0.0396, 0.0399, 0.0401, 0.0404, 0.0407, 0.0410, 0.0413, 0.0416,\n",
       "        0.0418, 0.0421, 0.0424, 0.0427, 0.0430, 0.0433, 0.0436, 0.0439, 0.0442,\n",
       "        0.0445, 0.0448, 0.0451, 0.0455, 0.0458, 0.0461, 0.0464, 0.0467, 0.0471,\n",
       "        0.0474, 0.0477, 0.0480, 0.0484, 0.0487, 0.0491, 0.0494, 0.0497, 0.0501,\n",
       "        0.0504, 0.0508, 0.0511, 0.0515, 0.0518, 0.0522, 0.0526, 0.0529, 0.0533,\n",
       "        0.0537, 0.0540, 0.0544, 0.0548, 0.0552, 0.0556, 0.0559, 0.0563, 0.0567,\n",
       "        0.0571, 0.0575, 0.0579, 0.0583, 0.0587, 0.0591, 0.0595, 0.0599, 0.0604,\n",
       "        0.0608, 0.0612, 0.0616, 0.0621, 0.0625, 0.0629, 0.0634, 0.0638, 0.0642,\n",
       "        0.0647, 0.0651, 0.0656, 0.0660, 0.0665, 0.0670, 0.0674, 0.0679, 0.0684,\n",
       "        0.0688, 0.0693, 0.0698, 0.0703, 0.0708, 0.0713, 0.0718, 0.0723, 0.0728,\n",
       "        0.0733, 0.0738, 0.0743, 0.0748, 0.0753, 0.0758, 0.0764, 0.0769, 0.0774,\n",
       "        0.0780, 0.0785, 0.0790, 0.0796, 0.0802, 0.0807, 0.0813, 0.0818, 0.0824,\n",
       "        0.0830, 0.0835, 0.0841, 0.0847, 0.0853, 0.0859, 0.0865, 0.0871, 0.0877,\n",
       "        0.0883, 0.0889, 0.0895, 0.0901, 0.0908, 0.0914, 0.0920, 0.0927, 0.0933,\n",
       "        0.0940, 0.0946, 0.0953, 0.0959, 0.0966, 0.0973, 0.0979, 0.0986, 0.0993,\n",
       "        0.1000, 0.1007, 0.1014, 0.1021, 0.1028, 0.1035, 0.1042, 0.1050, 0.1057,\n",
       "        0.1064, 0.1072, 0.1079, 0.1087, 0.1094, 0.1102, 0.1109, 0.1117, 0.1125,\n",
       "        0.1133, 0.1140, 0.1148, 0.1156, 0.1164, 0.1172, 0.1181, 0.1189, 0.1197,\n",
       "        0.1205, 0.1214, 0.1222, 0.1231, 0.1239, 0.1248, 0.1256, 0.1265, 0.1274,\n",
       "        0.1283, 0.1292, 0.1301, 0.1310, 0.1319, 0.1328, 0.1337, 0.1346, 0.1356,\n",
       "        0.1365, 0.1374, 0.1384, 0.1394, 0.1403, 0.1413, 0.1423, 0.1433, 0.1443,\n",
       "        0.1453, 0.1463, 0.1473, 0.1483, 0.1493, 0.1504, 0.1514, 0.1525, 0.1535,\n",
       "        0.1546, 0.1557, 0.1567, 0.1578, 0.1589, 0.1600, 0.1611, 0.1623, 0.1634,\n",
       "        0.1645, 0.1657, 0.1668, 0.1680, 0.1691, 0.1703, 0.1715, 0.1727, 0.1739,\n",
       "        0.1751, 0.1763, 0.1775, 0.1788, 0.1800, 0.1812, 0.1825, 0.1838, 0.1850,\n",
       "        0.1863, 0.1876, 0.1889, 0.1902, 0.1916, 0.1929, 0.1942, 0.1956, 0.1969,\n",
       "        0.1983, 0.1997, 0.2010, 0.2024, 0.2038, 0.2053, 0.2067, 0.2081, 0.2096,\n",
       "        0.2110, 0.2125, 0.2140, 0.2154, 0.2169, 0.2184, 0.2200, 0.2215, 0.2230,\n",
       "        0.2246, 0.2261, 0.2277, 0.2293, 0.2309, 0.2325, 0.2341, 0.2357, 0.2373,\n",
       "        0.2390, 0.2406, 0.2423, 0.2440, 0.2457, 0.2474, 0.2491, 0.2508, 0.2526,\n",
       "        0.2543, 0.2561, 0.2579, 0.2597, 0.2615, 0.2633, 0.2651, 0.2669, 0.2688,\n",
       "        0.2707, 0.2725, 0.2744, 0.2763, 0.2783, 0.2802, 0.2821, 0.2841, 0.2861,\n",
       "        0.2880, 0.2900, 0.2921, 0.2941, 0.2961, 0.2982, 0.3002, 0.3023, 0.3044,\n",
       "        0.3065, 0.3087, 0.3108, 0.3130, 0.3151, 0.3173, 0.3195, 0.3217, 0.3240,\n",
       "        0.3262, 0.3285, 0.3308, 0.3331, 0.3354, 0.3377, 0.3400, 0.3424, 0.3448,\n",
       "        0.3472, 0.3496, 0.3520, 0.3544, 0.3569, 0.3594, 0.3619, 0.3644, 0.3669,\n",
       "        0.3695, 0.3720, 0.3746, 0.3772, 0.3798, 0.3825, 0.3851, 0.3878, 0.3905,\n",
       "        0.3932, 0.3959, 0.3987, 0.4014, 0.4042, 0.4070, 0.4098, 0.4127, 0.4155,\n",
       "        0.4184, 0.4213, 0.4243, 0.4272, 0.4302, 0.4331, 0.4362, 0.4392, 0.4422,\n",
       "        0.4453, 0.4484, 0.4515, 0.4546, 0.4578, 0.4610, 0.4642, 0.4674, 0.4706,\n",
       "        0.4739, 0.4772, 0.4805, 0.4838, 0.4872, 0.4906, 0.4940, 0.4974, 0.5008,\n",
       "        0.5043, 0.5078, 0.5113, 0.5149, 0.5185, 0.5221, 0.5257, 0.5293, 0.5330,\n",
       "        0.5367, 0.5404, 0.5442, 0.5479, 0.5517, 0.5556, 0.5594, 0.5633, 0.5672,\n",
       "        0.5712, 0.5751, 0.5791, 0.5831, 0.5872, 0.5913, 0.5954, 0.5995, 0.6036,\n",
       "        0.6078, 0.6120, 0.6163, 0.6206, 0.6249, 0.6292, 0.6336, 0.6380, 0.6424,\n",
       "        0.6469, 0.6513, 0.6559, 0.6604, 0.6650, 0.6696, 0.6743, 0.6789, 0.6837,\n",
       "        0.6884, 0.6932, 0.6980, 0.7028, 0.7077, 0.7126, 0.7176, 0.7225, 0.7275,\n",
       "        0.7326, 0.7377, 0.7428, 0.7480, 0.7531, 0.7584, 0.7636, 0.7689, 0.7743,\n",
       "        0.7796, 0.7850, 0.7905, 0.7960, 0.8015, 0.8071, 0.8127, 0.8183, 0.8240,\n",
       "        0.8297, 0.8355, 0.8412, 0.8471, 0.8530, 0.8589, 0.8648, 0.8708, 0.8769,\n",
       "        0.8830, 0.8891, 0.8953, 0.9015, 0.9077, 0.9140, 0.9204, 0.9268, 0.9332,\n",
       "        0.9397, 0.9462, 0.9528, 0.9594, 0.9660, 0.9727, 0.9795, 0.9863, 0.9931,\n",
       "        1.0000])"
      ]
     },
     "execution_count": 171,
     "metadata": {},
     "output_type": "execute_result"
    }
   ],
   "source": [
    "learning_rate = torch.linspace(-3,0,1000)\n",
    "lrs = 10**learning_rate\n",
    "lrs"
   ]
  },
  {
   "cell_type": "code",
   "execution_count": 172,
   "id": "7733d4d9-910a-409d-bf7f-664edb3b22aa",
   "metadata": {},
   "outputs": [],
   "source": [
    "lri = []\n",
    "loss_lr = []\n",
    "stepi = []"
   ]
  },
  {
   "cell_type": "code",
   "execution_count": 177,
   "id": "2bed95a1-ba54-46a4-a2d8-9a9fbbb93cae",
   "metadata": {},
   "outputs": [
    {
     "name": "stdout",
     "output_type": "stream",
     "text": [
      "2.585841655731201\n"
     ]
    }
   ],
   "source": [
    "# training of this neural network\n",
    "for i in range(200000):\n",
    "    # minibatch construct\n",
    "    ix = torch.randint(0,X_train.shape[0],(32,))\n",
    "    # forward pass\n",
    "    emb = C[X_train[ix]] #(32,4,2)\n",
    "    h = torch.tanh(emb.view(-1,120) @ W1 + b1 ) # (32,150)\n",
    "    logits = h @ W2 + b2 # (32,27)\n",
    "    loss = F.cross_entropy(logits,Y_train[ix])\n",
    "    # print(loss.item())\n",
    "    #backward pass\n",
    "    for p in prameters:\n",
    "        p.grad = None\n",
    "    loss.backward()\n",
    "    #update\n",
    "    # lr = lrs[i]\n",
    "    lr = 0.01\n",
    "    for p in prameters:\n",
    "        p.data += -lr * p.grad\n",
    "    # tracking stats\n",
    "    stepi.append(i)\n",
    "    # lri.append(learning_rate[i])\n",
    "    loss_lr.append(loss.log10().item())\n",
    "\n",
    "print(loss.item()) #we are only training of 32 outputs so we are overfitting the model so low loss and great predictions\n"
   ]
  },
  {
   "cell_type": "code",
   "execution_count": 178,
   "id": "11b77ad4-5063-44f6-841c-7d1767b40b40",
   "metadata": {},
   "outputs": [
    {
     "data": {
      "text/plain": [
       "[<matplotlib.lines.Line2D at 0x2a22c6113c0>]"
      ]
     },
     "execution_count": 178,
     "metadata": {},
     "output_type": "execute_result"
    },
    {
     "data": {
      "image/png": "[encoded data removed]",
      "text/plain": [
       "<Figure size 640x480 with 1 Axes>"
      ]
     },
     "metadata": {},
     "output_type": "display_data"
    }
   ],
   "source": [
    "plt.plot(stepi,loss_lr)"
   ]
  },
  {
   "cell_type": "code",
   "execution_count": 180,
   "id": "3f2e3251-c874-4cd9-9416-9e275e8bd7e9",
   "metadata": {},
   "outputs": [
    {
     "data": {
      "text/plain": [
       "tensor(2.1041, grad_fn=<NllLossBackward0>)"
      ]
     },
     "execution_count": 180,
     "metadata": {},
     "output_type": "execute_result"
    }
   ],
   "source": [
    "emb = C[X_train] #(32,4,2)\n",
    "h = torch.tanh(emb.view(-1,120) @ W1 + b1 ) # (32,150)\n",
    "logits = h @ W2 + b2 # (32,27)\n",
    "loss = F.cross_entropy(logits,Y_train)\n",
    "loss"
   ]
  },
  {
   "cell_type": "code",
   "execution_count": 181,
   "id": "c774e7a0-f39f-4160-9220-b33d283d4be1",
   "metadata": {},
   "outputs": [
    {
     "data": {
      "text/plain": [
       "tensor(2.2101, grad_fn=<NllLossBackward0>)"
      ]
     },
     "execution_count": 181,
     "metadata": {},
     "output_type": "execute_result"
    }
   ],
   "source": [
    "emb = C[X_dev] #(32,4,2)\n",
    "h = torch.tanh(emb.view(-1,120) @ W1 + b1 ) # (32,150)\n",
    "logits = h @ W2 + b2 # (32,27)\n",
    "loss = F.cross_entropy(logits,Y_dev)\n",
    "loss"
   ]
  },
  {
   "cell_type": "code",
   "execution_count": 182,
   "id": "380be5c6-d0d5-476c-895b-399cf1e514c1",
   "metadata": {},
   "outputs": [
    {
     "data": {
      "image/png": "[encoded data removed]",
      "text/plain": [
       "<Figure size 800x800 with 1 Axes>"
      ]
     },
     "metadata": {},
     "output_type": "display_data"
    }
   ],
   "source": [
    "plt.figure(figsize=(8,8))\n",
    "plt.scatter(C[:,0].data,C[:,1].data,s=200)\n",
    "for i in range(C.shape[0]):\n",
    "    plt.text(C[i,0].item(),C[i,1].item(),itos[i],ha=\"center\",va=\"center\",color=\"white\")\n",
    "plt.grid('minor')"
   ]
  },
  {
   "cell_type": "code",
   "execution_count": 183,
   "id": "c9989f52-60dc-47c9-b7f3-4998e9563c5c",
   "metadata": {},
   "outputs": [
    {
     "data": {
      "text/plain": [
       "tensor(2.1957, grad_fn=<NllLossBackward0>)"
      ]
     },
     "execution_count": 183,
     "metadata": {},
     "output_type": "execute_result"
    }
   ],
   "source": [
    "emb = C[X_test] #(32,4,2)\n",
    "h = torch.tanh(emb.view(-1,120) @ W1 + b1 ) # (32,150)\n",
    "logits = h @ W2 + b2 # (32,27)\n",
    "loss = F.cross_entropy(logits,Y_test)\n",
    "loss"
   ]
  },
  {
   "cell_type": "code",
   "execution_count": 186,
   "id": "561130fc-b1cc-4cb7-9ef2-1f9f59d83efe",
   "metadata": {},
   "outputs": [
    {
     "name": "stdout",
     "output_type": "stream",
     "text": [
      "lori.\n",
      "jaedin.\n",
      "kelseline.\n",
      "nazal.\n",
      "menoa.\n",
      "smiliana.\n",
      "marvanylia.\n",
      "jae.\n",
      "broania.\n",
      "emico.\n",
      "tonean.\n",
      "deycen.\n",
      "syrric.\n",
      "denson.\n",
      "deilison.\n",
      "biella.\n",
      "rolindy.\n",
      "madalea.\n",
      "dage.\n",
      "cseez.\n",
      "isac.\n",
      "tesia.\n",
      "ayaline.\n",
      "kamyar.\n",
      "triona.\n",
      "etdri.\n",
      "dora.\n",
      "jirrick.\n",
      "diamon.\n",
      "jera.\n"
     ]
    }
   ],
   "source": [
    "#sampling from the model\n",
    "g = torch.Generator().manual_seed(2147483747 + 10)\n",
    "\n",
    "for _ in range(30):\n",
    "\n",
    "    out = []\n",
    "    context = [0] * block_size # beign with all .........\n",
    "    while True:\n",
    "        emb = C[torch.tensor([context])] #(1,block_size,d) \n",
    "        h = torch.tanh(emb.view(1,-1) @ W1 + b1)\n",
    "        logits = h@W2 + b2\n",
    "        probs = F.softmax(logits,dim=1) #to calculate the probs exp and sum to 1 and no overflows\n",
    "        ix = torch.multinomial(probs,num_samples=1,generator=g).item() #sample from \n",
    "        context = context[1:] + [ix]\n",
    "        out.append(ix)\n",
    "        if ix==0:\n",
    "            break\n",
    "    print(''.join(itos[i] for i in out))"
   ]
  },
  {
   "cell_type": "code",
   "execution_count": null,
   "id": "cf78c827-5225-4a02-92a2-860bea9379b0",
   "metadata": {},
   "outputs": [],
   "source": []
  }
 ],
 "metadata": {
  "kernelspec": {
   "display_name": "Python 3 (ipykernel)",
   "language": "python",
   "name": "python3"
  },
  "language_info": {
   "codemirror_mode": {
    "name": "ipython",
    "version": 3
   },
   "file_extension": ".py",
   "mimetype": "text/x-python",
   "name": "python",
   "nbconvert_exporter": "python",
   "pygments_lexer": "ipython3",
   "version": "3.10.12"
  }
 },
 "nbformat": 4,
 "nbformat_minor": 5
}
