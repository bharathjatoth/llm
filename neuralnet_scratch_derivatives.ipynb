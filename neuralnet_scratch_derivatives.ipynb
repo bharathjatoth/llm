{
 "cells": [
  {
   "cell_type": "code",
   "execution_count": 4,
   "id": "dcb8e4dc",
   "metadata": {},
   "outputs": [],
   "source": [
    "# ! pip install matplotlib\n",
    "# python -m notebook"
   ]
  },
  {
   "cell_type": "code",
   "execution_count": 2,
   "id": "8dfa3f07",
   "metadata": {},
   "outputs": [],
   "source": [
    "import math\n",
    "import numpy as np\n",
    "import matplotlib.pyplot as plt\n",
    "%matplotlib inline"
   ]
  },
  {
   "cell_type": "code",
   "execution_count": 3,
   "id": "bd8ccc10",
   "metadata": {},
   "outputs": [],
   "source": [
    "def f(x):\n",
    "    return 4*x**2 - 10*x + 6"
   ]
  },
  {
   "cell_type": "code",
   "execution_count": 4,
   "id": "1de81b3c",
   "metadata": {},
   "outputs": [
    {
     "data": {
      "text/plain": [
       "12.0"
      ]
     },
     "execution_count": 4,
     "metadata": {},
     "output_type": "execute_result"
    }
   ],
   "source": [
    "f(3.0)"
   ]
  },
  {
   "cell_type": "code",
   "execution_count": 5,
   "id": "f8d4c781",
   "metadata": {},
   "outputs": [
    {
     "data": {
      "text/plain": [
       "(array([-5.  , -4.75, -4.5 , -4.25, -4.  , -3.75, -3.5 , -3.25, -3.  ,\n",
       "        -2.75, -2.5 , -2.25, -2.  , -1.75, -1.5 , -1.25, -1.  , -0.75,\n",
       "        -0.5 , -0.25,  0.  ,  0.25,  0.5 ,  0.75,  1.  ,  1.25,  1.5 ,\n",
       "         1.75,  2.  ,  2.25,  2.5 ,  2.75,  3.  ,  3.25,  3.5 ,  3.75,\n",
       "         4.  ,  4.25,  4.5 ,  4.75]),\n",
       " array([156.  , 143.75, 132.  , 120.75, 110.  ,  99.75,  90.  ,  80.75,\n",
       "         72.  ,  63.75,  56.  ,  48.75,  42.  ,  35.75,  30.  ,  24.75,\n",
       "         20.  ,  15.75,  12.  ,   8.75,   6.  ,   3.75,   2.  ,   0.75,\n",
       "          0.  ,  -0.25,   0.  ,   0.75,   2.  ,   3.75,   6.  ,   8.75,\n",
       "         12.  ,  15.75,  20.  ,  24.75,  30.  ,  35.75,  42.  ,  48.75]))"
      ]
     },
     "execution_count": 5,
     "metadata": {},
     "output_type": "execute_result"
    }
   ],
   "source": [
    "xs = np.arange(-5,5,0.25)\n",
    "ys = f(xs)\n",
    "xs,ys"
   ]
  },
  {
   "cell_type": "code",
   "execution_count": 6,
   "id": "042e9a02",
   "metadata": {},
   "outputs": [
    {
     "data": {
      "text/plain": [
       "[<matplotlib.lines.Line2D at 0x2107406e1d0>]"
      ]
     },
     "execution_count": 6,
     "metadata": {},
     "output_type": "execute_result"
    },
    {
     "data": {
      "image/png": "[encoded data removed]",
      "text/plain": [
       "<Figure size 640x480 with 1 Axes>"
      ]
     },
     "metadata": {},
     "output_type": "display_data"
    }
   ],
   "source": [
    "plt.plot(xs,ys)"
   ]
  },
  {
   "cell_type": "code",
   "execution_count": 7,
   "id": "ce19e300",
   "metadata": {},
   "outputs": [
    {
     "data": {
      "text/plain": [
       "14.000400000035995"
      ]
     },
     "execution_count": 7,
     "metadata": {},
     "output_type": "execute_result"
    }
   ],
   "source": [
    "#defining the derivative\n",
    "h = 0.0001\n",
    "x = 3\n",
    "y = (f(x+h) - f(x))/h\n",
    "y"
   ]
  },
  {
   "cell_type": "code",
   "execution_count": 8,
   "id": "d666c3e0",
   "metadata": {},
   "outputs": [
    {
     "data": {
      "text/plain": [
       "4.0"
      ]
     },
     "execution_count": 8,
     "metadata": {},
     "output_type": "execute_result"
    }
   ],
   "source": [
    "#what if the number is -3 then the slope is negative if we go in positive direction in the graph\n",
    "#let us go more complex\n",
    "a = 2.0\n",
    "b = -3.0\n",
    "c = 10.0\n",
    "d = a*b + c\n",
    "d\n"
   ]
  },
  {
   "cell_type": "code",
   "execution_count": 9,
   "id": "6fea6d03",
   "metadata": {},
   "outputs": [
    {
     "name": "stdout",
     "output_type": "stream",
     "text": [
      "slope if we increase a is -3.000000000010772 as per the calculation of a and d1 is 4.0 and d2 is 3.999699999999999\n"
     ]
    }
   ],
   "source": [
    "#now we are going to derivative of d with respective to the above function\n",
    "h = 0.0001\n",
    "d1 = a*b +c\n",
    "a += h\n",
    "d2 = a*b +c\n",
    "print(f\"slope if we increase a is {(d2-d1)/h} as per the calculation of a and d1 is {d1} and d2 is {d2}\")"
   ]
  },
  {
   "cell_type": "code",
   "execution_count": 10,
   "id": "d35a01fc",
   "metadata": {},
   "outputs": [
    {
     "data": {
      "text/plain": [
       "Value data = -20.0"
      ]
     },
     "execution_count": 10,
     "metadata": {},
     "output_type": "execute_result"
    }
   ],
   "source": [
    "#now we are going to building the neural networks\n",
    "class Value:\n",
    "    def __init__(self,data, _children =(), _op='',label=''):\n",
    "        self.data = data\n",
    "        self.grad = 0.0\n",
    "        self.backward = lambda: None\n",
    "        self._prev = set(_children)\n",
    "        self._op = _op\n",
    "        self.label = label\n",
    "    def __repr__(self):\n",
    "        return f\"Value data = {self.data}\"\n",
    "\n",
    "    def __add__(self,other):\n",
    "        out = Value(self.data+other.data, (self,other), '+')\n",
    "        def _backward():\n",
    "            self.grad += 1.0 * out.grad\n",
    "            other.grad += 1.0 * out.grad\n",
    "        out._backward = _backward\n",
    "        return out\n",
    "    \n",
    "    def __mul__(self,other):\n",
    "        out = Value(self.data * other.data, (self,other), '*')\n",
    "        def _backward():\n",
    "            self.grad += (other.data * out.grad)\n",
    "            other.grad += self.data + out.grad\n",
    "            \n",
    "        out._backward = _backward\n",
    "        \n",
    "        return out\n",
    "\n",
    "    def tanh(self):\n",
    "        x = self.data\n",
    "        tan = (math.exp(2*x)-1)/(math.exp(2*x)+1)\n",
    "        out = Value(tan, (self,),'tanh')\n",
    "\n",
    "        def _backward():\n",
    "            self.grad +=( 1- tan**2) * out.grad\n",
    "        out._backward = _backward\n",
    "        \n",
    "        return out\n",
    "\n",
    "a = Value(2.0,label='a') \n",
    "b = Value(3.0,label='b')\n",
    "c = Value(4.0,label='c')\n",
    "e = a*b; e.label = 'e'\n",
    "d = e + c; d.label = 'd'\n",
    "f = Value(-2.0,label='f')\n",
    "L = d * f; L.label = 'L'\n",
    "L"
   ]
  },
  {
   "cell_type": "code",
   "execution_count": 11,
   "id": "cd836d20",
   "metadata": {},
   "outputs": [
    {
     "data": {
      "text/plain": [
       "{Value data = -2.0, Value data = 10.0}"
      ]
     },
     "execution_count": 11,
     "metadata": {},
     "output_type": "execute_result"
    }
   ],
   "source": [
    "L._prev"
   ]
  },
  {
   "cell_type": "code",
   "execution_count": 12,
   "id": "090a97de",
   "metadata": {},
   "outputs": [],
   "source": [
    "from graphviz import Digraph\n",
    "\n",
    "def trace(root):\n",
    "  # builds a set of all nodes and edges in a graph\n",
    "  nodes, edges = set(), set()\n",
    "  def build(v):\n",
    "    if v not in nodes:\n",
    "      nodes.add(v)\n",
    "      for child in v._prev:\n",
    "        edges.add((child, v))\n",
    "        build(child)\n",
    "  build(root)\n",
    "  return nodes, edges\n",
    "\n",
    "def draw_dot(root):\n",
    "  dot = Digraph(format='svg', graph_attr={'rankdir': 'LR'}) # LR = left to right\n",
    "  \n",
    "  nodes, edges = trace(root)\n",
    "  for n in nodes:\n",
    "    uid = str(id(n))\n",
    "    # for any value in the graph, create a rectangular ('record') node for it\n",
    "    dot.node(name = uid, label = \"{%s | data %.4f | grad %.4f}\" % (n.label, n.data, n.grad), shape='record')\n",
    "    if n._op:\n",
    "      # if this value is a result of some operation, create an op node for it\n",
    "      dot.node(name = uid + n._op, label = n._op)\n",
    "      # and connect this node to it\n",
    "      dot.edge(uid + n._op, uid)\n",
    "\n",
    "  for n1, n2 in edges:\n",
    "    # connect n1 to the op node of n2\n",
    "    dot.edge(str(id(n1)), str(id(n2)) + n2._op)\n",
    "\n",
    "  return dot"
   ]
  },
  {
   "cell_type": "code",
   "execution_count": 14,
   "id": "ace0c83c",
   "metadata": {},
   "outputs": [
    {
     "data": {
      "image/svg+xml": [
       "<?xml version=\"1.0\" encoding=\"UTF-8\" standalone=\"no\"?>\n",
       "<!DOCTYPE svg PUBLIC \"-//W3C//DTD SVG 1.1//EN\"\n",
       " \"http://www.w3.org/Graphics/SVG/1.1/DTD/svg11.dtd\">\n",
       "<!-- Generated by graphviz version 2.50.0 (0)\n",
       " -->\n",
       "<!-- Pages: 1 -->\n",
       "<svg width=\"1147pt\" height=\"154pt\"\n",
       " viewBox=\"0.00 0.00 1147.00 154.00\" xmlns=\"http://www.w3.org/2000/svg\" xmlns:xlink=\"http://www.w3.org/1999/xlink\">\n",
       "<g id=\"graph0\" class=\"graph\" transform=\"scale(1 1) rotate(0) translate(4 150)\">\n",
       "<polygon fill=\"white\" stroke=\"transparent\" points=\"-4,4 -4,-150 1143,-150 1143,4 -4,4\"/>\n",
       "<!-- 2269691364352 -->\n",
       "<g id=\"node1\" class=\"node\">\n",
       "<title>2269691364352</title>\n",
       "<polygon fill=\"none\" stroke=\"black\" points=\"622,-54.5 622,-90.5 814,-90.5 814,-54.5 622,-54.5\"/>\n",
       "<text text-anchor=\"middle\" x=\"633.5\" y=\"-68.8\" font-family=\"Times New Roman,serif\" font-size=\"14.00\">d</text>\n",
       "<polyline fill=\"none\" stroke=\"black\" points=\"645,-54.5 645,-90.5 \"/>\n",
       "<text text-anchor=\"middle\" x=\"688.5\" y=\"-68.8\" font-family=\"Times New Roman,serif\" font-size=\"14.00\">data 10.0000</text>\n",
       "<polyline fill=\"none\" stroke=\"black\" points=\"732,-54.5 732,-90.5 \"/>\n",
       "<text text-anchor=\"middle\" x=\"773\" y=\"-68.8\" font-family=\"Times New Roman,serif\" font-size=\"14.00\">grad 0.0000</text>\n",
       "</g>\n",
       "<!-- 2269691364592* -->\n",
       "<g id=\"node8\" class=\"node\">\n",
       "<title>2269691364592*</title>\n",
       "<ellipse fill=\"none\" stroke=\"black\" cx=\"877\" cy=\"-99.5\" rx=\"27\" ry=\"18\"/>\n",
       "<text text-anchor=\"middle\" x=\"877\" y=\"-95.8\" font-family=\"Times New Roman,serif\" font-size=\"14.00\">*</text>\n",
       "</g>\n",
       "<!-- 2269691364352&#45;&gt;2269691364592* -->\n",
       "<g id=\"edge4\" class=\"edge\">\n",
       "<title>2269691364352&#45;&gt;2269691364592*</title>\n",
       "<path fill=\"none\" stroke=\"black\" d=\"M814.4,-88.91C823.69,-90.5 832.64,-92.04 840.71,-93.43\"/>\n",
       "<polygon fill=\"black\" stroke=\"black\" points=\"840.32,-96.91 850.76,-95.16 841.5,-90.02 840.32,-96.91\"/>\n",
       "</g>\n",
       "<!-- 2269691364352+ -->\n",
       "<g id=\"node2\" class=\"node\">\n",
       "<title>2269691364352+</title>\n",
       "<ellipse fill=\"none\" stroke=\"black\" cx=\"559\" cy=\"-72.5\" rx=\"27\" ry=\"18\"/>\n",
       "<text text-anchor=\"middle\" x=\"559\" y=\"-68.8\" font-family=\"Times New Roman,serif\" font-size=\"14.00\">+</text>\n",
       "</g>\n",
       "<!-- 2269691364352+&#45;&gt;2269691364352 -->\n",
       "<g id=\"edge1\" class=\"edge\">\n",
       "<title>2269691364352+&#45;&gt;2269691364352</title>\n",
       "<path fill=\"none\" stroke=\"black\" d=\"M586.28,-72.5C593.78,-72.5 602.44,-72.5 611.67,-72.5\"/>\n",
       "<polygon fill=\"black\" stroke=\"black\" points=\"611.87,-76 621.87,-72.5 611.87,-69 611.87,-76\"/>\n",
       "</g>\n",
       "<!-- 2269691364400 -->\n",
       "<g id=\"node3\" class=\"node\">\n",
       "<title>2269691364400</title>\n",
       "<polygon fill=\"none\" stroke=\"black\" points=\"624,-109.5 624,-145.5 812,-145.5 812,-109.5 624,-109.5\"/>\n",
       "<text text-anchor=\"middle\" x=\"634.5\" y=\"-123.8\" font-family=\"Times New Roman,serif\" font-size=\"14.00\">f</text>\n",
       "<polyline fill=\"none\" stroke=\"black\" points=\"645,-109.5 645,-145.5 \"/>\n",
       "<text text-anchor=\"middle\" x=\"687.5\" y=\"-123.8\" font-family=\"Times New Roman,serif\" font-size=\"14.00\">data &#45;2.0000</text>\n",
       "<polyline fill=\"none\" stroke=\"black\" points=\"730,-109.5 730,-145.5 \"/>\n",
       "<text text-anchor=\"middle\" x=\"771\" y=\"-123.8\" font-family=\"Times New Roman,serif\" font-size=\"14.00\">grad 0.0000</text>\n",
       "</g>\n",
       "<!-- 2269691364400&#45;&gt;2269691364592* -->\n",
       "<g id=\"edge8\" class=\"edge\">\n",
       "<title>2269691364400&#45;&gt;2269691364592*</title>\n",
       "<path fill=\"none\" stroke=\"black\" d=\"M812.14,-110.89C822.19,-109.1 831.9,-107.36 840.59,-105.81\"/>\n",
       "<polygon fill=\"black\" stroke=\"black\" points=\"841.41,-109.22 850.64,-104.02 840.19,-102.33 841.41,-109.22\"/>\n",
       "</g>\n",
       "<!-- 2269691378272 -->\n",
       "<g id=\"node4\" class=\"node\">\n",
       "<title>2269691378272</title>\n",
       "<polygon fill=\"none\" stroke=\"black\" points=\"311,-82.5 311,-118.5 496,-118.5 496,-82.5 311,-82.5\"/>\n",
       "<text text-anchor=\"middle\" x=\"322.5\" y=\"-96.8\" font-family=\"Times New Roman,serif\" font-size=\"14.00\">c</text>\n",
       "<polyline fill=\"none\" stroke=\"black\" points=\"334,-82.5 334,-118.5 \"/>\n",
       "<text text-anchor=\"middle\" x=\"374\" y=\"-96.8\" font-family=\"Times New Roman,serif\" font-size=\"14.00\">data 4.0000</text>\n",
       "<polyline fill=\"none\" stroke=\"black\" points=\"414,-82.5 414,-118.5 \"/>\n",
       "<text text-anchor=\"middle\" x=\"455\" y=\"-96.8\" font-family=\"Times New Roman,serif\" font-size=\"14.00\">grad 0.0000</text>\n",
       "</g>\n",
       "<!-- 2269691378272&#45;&gt;2269691364352+ -->\n",
       "<g id=\"edge6\" class=\"edge\">\n",
       "<title>2269691378272&#45;&gt;2269691364352+</title>\n",
       "<path fill=\"none\" stroke=\"black\" d=\"M496.01,-83.81C505.49,-82.08 514.66,-80.41 522.9,-78.9\"/>\n",
       "<polygon fill=\"black\" stroke=\"black\" points=\"523.6,-82.33 532.81,-77.09 522.35,-75.45 523.6,-82.33\"/>\n",
       "</g>\n",
       "<!-- 2269691378320 -->\n",
       "<g id=\"node5\" class=\"node\">\n",
       "<title>2269691378320</title>\n",
       "<polygon fill=\"none\" stroke=\"black\" points=\"0,-55.5 0,-91.5 185,-91.5 185,-55.5 0,-55.5\"/>\n",
       "<text text-anchor=\"middle\" x=\"11.5\" y=\"-69.8\" font-family=\"Times New Roman,serif\" font-size=\"14.00\">b</text>\n",
       "<polyline fill=\"none\" stroke=\"black\" points=\"23,-55.5 23,-91.5 \"/>\n",
       "<text text-anchor=\"middle\" x=\"63\" y=\"-69.8\" font-family=\"Times New Roman,serif\" font-size=\"14.00\">data 3.0000</text>\n",
       "<polyline fill=\"none\" stroke=\"black\" points=\"103,-55.5 103,-91.5 \"/>\n",
       "<text text-anchor=\"middle\" x=\"144\" y=\"-69.8\" font-family=\"Times New Roman,serif\" font-size=\"14.00\">grad 0.0000</text>\n",
       "</g>\n",
       "<!-- 2269691364160* -->\n",
       "<g id=\"node10\" class=\"node\">\n",
       "<title>2269691364160*</title>\n",
       "<ellipse fill=\"none\" stroke=\"black\" cx=\"248\" cy=\"-45.5\" rx=\"27\" ry=\"18\"/>\n",
       "<text text-anchor=\"middle\" x=\"248\" y=\"-41.8\" font-family=\"Times New Roman,serif\" font-size=\"14.00\">*</text>\n",
       "</g>\n",
       "<!-- 2269691378320&#45;&gt;2269691364160* -->\n",
       "<g id=\"edge5\" class=\"edge\">\n",
       "<title>2269691378320&#45;&gt;2269691364160*</title>\n",
       "<path fill=\"none\" stroke=\"black\" d=\"M185.01,-56.81C194.49,-55.08 203.66,-53.41 211.9,-51.9\"/>\n",
       "<polygon fill=\"black\" stroke=\"black\" points=\"212.6,-55.33 221.81,-50.09 211.35,-48.45 212.6,-55.33\"/>\n",
       "</g>\n",
       "<!-- 2269691378416 -->\n",
       "<g id=\"node6\" class=\"node\">\n",
       "<title>2269691378416</title>\n",
       "<polygon fill=\"none\" stroke=\"black\" points=\"0,-0.5 0,-36.5 185,-36.5 185,-0.5 0,-0.5\"/>\n",
       "<text text-anchor=\"middle\" x=\"11.5\" y=\"-14.8\" font-family=\"Times New Roman,serif\" font-size=\"14.00\">a</text>\n",
       "<polyline fill=\"none\" stroke=\"black\" points=\"23,-0.5 23,-36.5 \"/>\n",
       "<text text-anchor=\"middle\" x=\"63\" y=\"-14.8\" font-family=\"Times New Roman,serif\" font-size=\"14.00\">data 2.0000</text>\n",
       "<polyline fill=\"none\" stroke=\"black\" points=\"103,-0.5 103,-36.5 \"/>\n",
       "<text text-anchor=\"middle\" x=\"144\" y=\"-14.8\" font-family=\"Times New Roman,serif\" font-size=\"14.00\">grad 0.0000</text>\n",
       "</g>\n",
       "<!-- 2269691378416&#45;&gt;2269691364160* -->\n",
       "<g id=\"edge7\" class=\"edge\">\n",
       "<title>2269691378416&#45;&gt;2269691364160*</title>\n",
       "<path fill=\"none\" stroke=\"black\" d=\"M185.01,-34.6C194.49,-36.26 203.66,-37.88 211.9,-39.33\"/>\n",
       "<polygon fill=\"black\" stroke=\"black\" points=\"211.36,-42.78 221.81,-41.07 212.57,-35.89 211.36,-42.78\"/>\n",
       "</g>\n",
       "<!-- 2269691364592 -->\n",
       "<g id=\"node7\" class=\"node\">\n",
       "<title>2269691364592</title>\n",
       "<polygon fill=\"none\" stroke=\"black\" points=\"940,-81.5 940,-117.5 1139,-117.5 1139,-81.5 940,-81.5\"/>\n",
       "<text text-anchor=\"middle\" x=\"952.5\" y=\"-95.8\" font-family=\"Times New Roman,serif\" font-size=\"14.00\">L</text>\n",
       "<polyline fill=\"none\" stroke=\"black\" points=\"965,-81.5 965,-117.5 \"/>\n",
       "<text text-anchor=\"middle\" x=\"1011\" y=\"-95.8\" font-family=\"Times New Roman,serif\" font-size=\"14.00\">data &#45;20.0000</text>\n",
       "<polyline fill=\"none\" stroke=\"black\" points=\"1057,-81.5 1057,-117.5 \"/>\n",
       "<text text-anchor=\"middle\" x=\"1098\" y=\"-95.8\" font-family=\"Times New Roman,serif\" font-size=\"14.00\">grad 0.0000</text>\n",
       "</g>\n",
       "<!-- 2269691364592*&#45;&gt;2269691364592 -->\n",
       "<g id=\"edge2\" class=\"edge\">\n",
       "<title>2269691364592*&#45;&gt;2269691364592</title>\n",
       "<path fill=\"none\" stroke=\"black\" d=\"M904.14,-99.5C911.65,-99.5 920.33,-99.5 929.6,-99.5\"/>\n",
       "<polygon fill=\"black\" stroke=\"black\" points=\"929.86,-103 939.86,-99.5 929.86,-96 929.86,-103\"/>\n",
       "</g>\n",
       "<!-- 2269691364160 -->\n",
       "<g id=\"node9\" class=\"node\">\n",
       "<title>2269691364160</title>\n",
       "<polygon fill=\"none\" stroke=\"black\" points=\"311,-27.5 311,-63.5 496,-63.5 496,-27.5 311,-27.5\"/>\n",
       "<text text-anchor=\"middle\" x=\"322.5\" y=\"-41.8\" font-family=\"Times New Roman,serif\" font-size=\"14.00\">e</text>\n",
       "<polyline fill=\"none\" stroke=\"black\" points=\"334,-27.5 334,-63.5 \"/>\n",
       "<text text-anchor=\"middle\" x=\"374\" y=\"-41.8\" font-family=\"Times New Roman,serif\" font-size=\"14.00\">data 6.0000</text>\n",
       "<polyline fill=\"none\" stroke=\"black\" points=\"414,-27.5 414,-63.5 \"/>\n",
       "<text text-anchor=\"middle\" x=\"455\" y=\"-41.8\" font-family=\"Times New Roman,serif\" font-size=\"14.00\">grad 0.0000</text>\n",
       "</g>\n",
       "<!-- 2269691364160&#45;&gt;2269691364352+ -->\n",
       "<g id=\"edge9\" class=\"edge\">\n",
       "<title>2269691364160&#45;&gt;2269691364352+</title>\n",
       "<path fill=\"none\" stroke=\"black\" d=\"M496.01,-61.6C505.49,-63.26 514.66,-64.88 522.9,-66.33\"/>\n",
       "<polygon fill=\"black\" stroke=\"black\" points=\"522.36,-69.78 532.81,-68.07 523.57,-62.89 522.36,-69.78\"/>\n",
       "</g>\n",
       "<!-- 2269691364160*&#45;&gt;2269691364160 -->\n",
       "<g id=\"edge3\" class=\"edge\">\n",
       "<title>2269691364160*&#45;&gt;2269691364160</title>\n",
       "<path fill=\"none\" stroke=\"black\" d=\"M275.04,-45.5C282.58,-45.5 291.3,-45.5 300.57,-45.5\"/>\n",
       "<polygon fill=\"black\" stroke=\"black\" points=\"300.81,-49 310.81,-45.5 300.81,-42 300.81,-49\"/>\n",
       "</g>\n",
       "</g>\n",
       "</svg>\n"
      ],
      "text/plain": [
       "<graphviz.graphs.Digraph at 0x2107425cca0>"
      ]
     },
     "execution_count": 14,
     "metadata": {},
     "output_type": "execute_result"
    }
   ],
   "source": [
    "draw_dot(L) "
   ]
  },
  {
   "cell_type": "code",
   "execution_count": 15,
   "id": "285c0381-e7b0-459e-8251-fe12c6487b3e",
   "metadata": {},
   "outputs": [],
   "source": [
    "# L = d*f\n",
    "# dL/dd = ? f\n",
    "\n",
    "# f(x+h) - f(x)/h\n",
    "\n",
    "# (d+h)*f - df/h - df+hf - df/h - hf/h = f\n"
   ]
  },
  {
   "cell_type": "code",
   "execution_count": 16,
   "id": "32360b1f",
   "metadata": {},
   "outputs": [],
   "source": [
    "#now we run the backpropagation from L and compute the derivative wrt L\n",
    "\n",
    "# dl/dl = 1 and  df/dl and dd/dl\n",
    "L.grad = 1.0\n",
    "d.grad = -2.0\n",
    "f.grad = 10.0\n",
    "#dl/de = dl/dd * dd/de = -2* 1 = -2 i.e., change of loss dl w.r.t de (another way of interpreting is how much does l change if we tweak e)\n",
    "e.grad = -2.0\n",
    "c.grad = -2.0\n",
    "a.grad = -6.0\n",
    "b.grad = -4.0\n",
    "\n"
   ]
  },
  {
   "cell_type": "code",
   "execution_count": 17,
   "id": "9c840ae4",
   "metadata": {},
   "outputs": [],
   "source": [
    "def lol():\n",
    "    h = 0.001\n",
    "    a = Value(2.0,label='a') \n",
    "    b = Value(3.0,label='b')\n",
    "    c = Value(4.0,label='c')\n",
    "    e = a*b; e.label = 'e'\n",
    "    d = e + c; d.label = 'd'\n",
    "    f = Value(-2.0,label='f')\n",
    "    L = d * f; L.label = 'L'\n",
    "    L1 = L.data\n",
    "\n",
    "    a = Value(2.0,label='a') \n",
    "    b = Value(3.0,label='b')\n",
    "    a.data += h\n",
    "    c = Value(4.0,label='c')\n",
    "    e = a*b; e.label = 'e'\n",
    "    d = e + c; d.label = 'd'\n",
    "    f = Value(-2.0 ,label='f')\n",
    "    L = d * f; L.label = 'L'\n",
    "    L2 = L.data\n",
    "\n",
    "    print((L2-L1)/h)\n",
    "    "
   ]
  },
  {
   "cell_type": "code",
   "execution_count": 18,
   "id": "13cd691e-7065-44d1-a50d-2c5d391a6280",
   "metadata": {},
   "outputs": [
    {
     "name": "stdout",
     "output_type": "stream",
     "text": [
      "-6.000000000000227\n"
     ]
    }
   ],
   "source": [
    "lol()"
   ]
  },
  {
   "cell_type": "code",
   "execution_count": 19,
   "id": "bf23c57c-c2a2-45a0-bf65-8e52362568f3",
   "metadata": {},
   "outputs": [
    {
     "data": {
      "image/png": "[encoded data removed]",
      "text/plain": [
       "<Figure size 640x480 with 1 Axes>"
      ]
     },
     "metadata": {},
     "output_type": "display_data"
    }
   ],
   "source": [
    "#activation functions are tanh,sigmoid \n",
    "# in neuron first half (wx + b) second half is f(wx+b) activation i.e., activation function in the neuron\n",
    "plt.plot(np.arange(-5,5,0.2),np.tanh(np.arange(-5,5,0.2)));\n",
    "plt.grid();"
   ]
  },
  {
   "cell_type": "code",
   "execution_count": 20,
   "id": "d4b2e660-19a9-4f3e-8400-eaafd0523735",
   "metadata": {},
   "outputs": [],
   "source": [
    "#inputs x1 and x2\n",
    "x1 = Value(2.0,label='x1')\n",
    "x2 = Value(-3.0,label='x2')\n",
    "#weights w1 and w2\n",
    "w1 = Value(-1.0,label='w1')\n",
    "w2 = Value(-1.0,label='w2')\n",
    "#first half in the cell\n",
    "w1x1 = x1*w1; w1x1.label = 'w1x1'\n",
    "w2x2 = x2*w2; w2x2.label = 'w2x2'\n",
    "#bias\n",
    "b = Value(0.3223423,label='b')\n",
    "\n",
    "w1x1w2x2 = w1x1 + w2x2; w1x1w2x2.label = 'w1x1 + w2x2'\n",
    "n = w1x1w2x2 + b ; n.label = 'n'\n",
    "\n",
    "o = n.tanh() #tanh is a hyperbolic functions i.e., e^x - e^-x\n",
    "o.grad = 1.0\n"
   ]
  },
  {
   "cell_type": "code",
   "execution_count": 21,
   "id": "af85f110-2672-4488-b52d-9dd4f666e007",
   "metadata": {},
   "outputs": [
    {
     "data": {
      "image/svg+xml": [
       "<?xml version=\"1.0\" encoding=\"UTF-8\" standalone=\"no\"?>\n",
       "<!DOCTYPE svg PUBLIC \"-//W3C//DTD SVG 1.1//EN\"\n",
       " \"http://www.w3.org/Graphics/SVG/1.1/DTD/svg11.dtd\">\n",
       "<!-- Generated by graphviz version 2.50.0 (0)\n",
       " -->\n",
       "<!-- Pages: 1 -->\n",
       "<svg width=\"1551pt\" height=\"210pt\"\n",
       " viewBox=\"0.00 0.00 1551.00 210.00\" xmlns=\"http://www.w3.org/2000/svg\" xmlns:xlink=\"http://www.w3.org/1999/xlink\">\n",
       "<g id=\"graph0\" class=\"graph\" transform=\"scale(1 1) rotate(0) translate(4 206)\">\n",
       "<polygon fill=\"white\" stroke=\"transparent\" points=\"-4,4 -4,-206 1547,-206 1547,4 -4,4\"/>\n",
       "<!-- 2269691097632 -->\n",
       "<g id=\"node1\" class=\"node\">\n",
       "<title>2269691097632</title>\n",
       "<polygon fill=\"none\" stroke=\"black\" points=\"4,-165.5 4,-201.5 200,-201.5 200,-165.5 4,-165.5\"/>\n",
       "<text text-anchor=\"middle\" x=\"19\" y=\"-179.8\" font-family=\"Times New Roman,serif\" font-size=\"14.00\">x1</text>\n",
       "<polyline fill=\"none\" stroke=\"black\" points=\"34,-165.5 34,-201.5 \"/>\n",
       "<text text-anchor=\"middle\" x=\"74\" y=\"-179.8\" font-family=\"Times New Roman,serif\" font-size=\"14.00\">data 2.0000</text>\n",
       "<polyline fill=\"none\" stroke=\"black\" points=\"114,-165.5 114,-201.5 \"/>\n",
       "<text text-anchor=\"middle\" x=\"157\" y=\"-179.8\" font-family=\"Times New Roman,serif\" font-size=\"14.00\">grad &#45;0.2477</text>\n",
       "</g>\n",
       "<!-- 2269690073328* -->\n",
       "<g id=\"node9\" class=\"node\">\n",
       "<title>2269690073328*</title>\n",
       "<ellipse fill=\"none\" stroke=\"black\" cx=\"267\" cy=\"-128.5\" rx=\"27\" ry=\"18\"/>\n",
       "<text text-anchor=\"middle\" x=\"267\" y=\"-124.8\" font-family=\"Times New Roman,serif\" font-size=\"14.00\">*</text>\n",
       "</g>\n",
       "<!-- 2269691097632&#45;&gt;2269690073328* -->\n",
       "<g id=\"edge9\" class=\"edge\">\n",
       "<title>2269691097632&#45;&gt;2269690073328*</title>\n",
       "<path fill=\"none\" stroke=\"black\" d=\"M176.26,-165.43C185.67,-162.67 195.11,-159.67 204,-156.5 214.54,-152.74 225.77,-147.93 235.73,-143.36\"/>\n",
       "<polygon fill=\"black\" stroke=\"black\" points=\"237.26,-146.51 244.83,-139.09 234.29,-140.17 237.26,-146.51\"/>\n",
       "</g>\n",
       "<!-- 2269690077552 -->\n",
       "<g id=\"node2\" class=\"node\">\n",
       "<title>2269690077552</title>\n",
       "<polygon fill=\"none\" stroke=\"black\" points=\"1361,-54.5 1361,-90.5 1543,-90.5 1543,-54.5 1361,-54.5\"/>\n",
       "<text text-anchor=\"middle\" x=\"1371\" y=\"-68.8\" font-family=\"Times New Roman,serif\" font-size=\"14.00\"> </text>\n",
       "<polyline fill=\"none\" stroke=\"black\" points=\"1381,-54.5 1381,-90.5 \"/>\n",
       "<text text-anchor=\"middle\" x=\"1421\" y=\"-68.8\" font-family=\"Times New Roman,serif\" font-size=\"14.00\">data 0.8674</text>\n",
       "<polyline fill=\"none\" stroke=\"black\" points=\"1461,-54.5 1461,-90.5 \"/>\n",
       "<text text-anchor=\"middle\" x=\"1502\" y=\"-68.8\" font-family=\"Times New Roman,serif\" font-size=\"14.00\">grad 1.0000</text>\n",
       "</g>\n",
       "<!-- 2269690077552tanh -->\n",
       "<g id=\"node3\" class=\"node\">\n",
       "<title>2269690077552tanh</title>\n",
       "<ellipse fill=\"none\" stroke=\"black\" cx=\"1298\" cy=\"-72.5\" rx=\"27\" ry=\"18\"/>\n",
       "<text text-anchor=\"middle\" x=\"1298\" y=\"-68.8\" font-family=\"Times New Roman,serif\" font-size=\"14.00\">tanh</text>\n",
       "</g>\n",
       "<!-- 2269690077552tanh&#45;&gt;2269690077552 -->\n",
       "<g id=\"edge1\" class=\"edge\">\n",
       "<title>2269690077552tanh&#45;&gt;2269690077552</title>\n",
       "<path fill=\"none\" stroke=\"black\" d=\"M1325.13,-72.5C1332.67,-72.5 1341.39,-72.5 1350.64,-72.5\"/>\n",
       "<polygon fill=\"black\" stroke=\"black\" points=\"1350.87,-76 1360.87,-72.5 1350.87,-69 1350.87,-76\"/>\n",
       "</g>\n",
       "<!-- 2269689951376 -->\n",
       "<g id=\"node4\" class=\"node\">\n",
       "<title>2269689951376</title>\n",
       "<polygon fill=\"none\" stroke=\"black\" points=\"704.5,-27.5 704.5,-63.5 889.5,-63.5 889.5,-27.5 704.5,-27.5\"/>\n",
       "<text text-anchor=\"middle\" x=\"716\" y=\"-41.8\" font-family=\"Times New Roman,serif\" font-size=\"14.00\">b</text>\n",
       "<polyline fill=\"none\" stroke=\"black\" points=\"727.5,-27.5 727.5,-63.5 \"/>\n",
       "<text text-anchor=\"middle\" x=\"767.5\" y=\"-41.8\" font-family=\"Times New Roman,serif\" font-size=\"14.00\">data 0.3223</text>\n",
       "<polyline fill=\"none\" stroke=\"black\" points=\"807.5,-27.5 807.5,-63.5 \"/>\n",
       "<text text-anchor=\"middle\" x=\"848.5\" y=\"-41.8\" font-family=\"Times New Roman,serif\" font-size=\"14.00\">grad 0.2477</text>\n",
       "</g>\n",
       "<!-- 2269690072944+ -->\n",
       "<g id=\"node13\" class=\"node\">\n",
       "<title>2269690072944+</title>\n",
       "<ellipse fill=\"none\" stroke=\"black\" cx=\"987\" cy=\"-72.5\" rx=\"27\" ry=\"18\"/>\n",
       "<text text-anchor=\"middle\" x=\"987\" y=\"-68.8\" font-family=\"Times New Roman,serif\" font-size=\"14.00\">+</text>\n",
       "</g>\n",
       "<!-- 2269689951376&#45;&gt;2269690072944+ -->\n",
       "<g id=\"edge13\" class=\"edge\">\n",
       "<title>2269689951376&#45;&gt;2269690072944+</title>\n",
       "<path fill=\"none\" stroke=\"black\" d=\"M889.52,-58.64C911.02,-61.73 932.69,-64.84 950.03,-67.33\"/>\n",
       "<polygon fill=\"black\" stroke=\"black\" points=\"949.84,-70.84 960.23,-68.8 950.83,-63.91 949.84,-70.84\"/>\n",
       "</g>\n",
       "<!-- 2269688923568 -->\n",
       "<g id=\"node5\" class=\"node\">\n",
       "<title>2269688923568</title>\n",
       "<polygon fill=\"none\" stroke=\"black\" points=\"0,-55.5 0,-91.5 204,-91.5 204,-55.5 0,-55.5\"/>\n",
       "<text text-anchor=\"middle\" x=\"16.5\" y=\"-69.8\" font-family=\"Times New Roman,serif\" font-size=\"14.00\">w2</text>\n",
       "<polyline fill=\"none\" stroke=\"black\" points=\"33,-55.5 33,-91.5 \"/>\n",
       "<text text-anchor=\"middle\" x=\"75.5\" y=\"-69.8\" font-family=\"Times New Roman,serif\" font-size=\"14.00\">data &#45;1.0000</text>\n",
       "<polyline fill=\"none\" stroke=\"black\" points=\"118,-55.5 118,-91.5 \"/>\n",
       "<text text-anchor=\"middle\" x=\"161\" y=\"-69.8\" font-family=\"Times New Roman,serif\" font-size=\"14.00\">grad &#45;0.7430</text>\n",
       "</g>\n",
       "<!-- 2269690078128* -->\n",
       "<g id=\"node15\" class=\"node\">\n",
       "<title>2269690078128*</title>\n",
       "<ellipse fill=\"none\" stroke=\"black\" cx=\"267\" cy=\"-73.5\" rx=\"27\" ry=\"18\"/>\n",
       "<text text-anchor=\"middle\" x=\"267\" y=\"-69.8\" font-family=\"Times New Roman,serif\" font-size=\"14.00\">*</text>\n",
       "</g>\n",
       "<!-- 2269688923568&#45;&gt;2269690078128* -->\n",
       "<g id=\"edge11\" class=\"edge\">\n",
       "<title>2269688923568&#45;&gt;2269690078128*</title>\n",
       "<path fill=\"none\" stroke=\"black\" d=\"M204.38,-73.5C213.37,-73.5 222.01,-73.5 229.84,-73.5\"/>\n",
       "<polygon fill=\"black\" stroke=\"black\" points=\"229.97,-77 239.97,-73.5 229.97,-70 229.97,-77\"/>\n",
       "</g>\n",
       "<!-- 2269691098784 -->\n",
       "<g id=\"node6\" class=\"node\">\n",
       "<title>2269691098784</title>\n",
       "<polygon fill=\"none\" stroke=\"black\" points=\"2,-110.5 2,-146.5 202,-146.5 202,-110.5 2,-110.5\"/>\n",
       "<text text-anchor=\"middle\" x=\"18.5\" y=\"-124.8\" font-family=\"Times New Roman,serif\" font-size=\"14.00\">w1</text>\n",
       "<polyline fill=\"none\" stroke=\"black\" points=\"35,-110.5 35,-146.5 \"/>\n",
       "<text text-anchor=\"middle\" x=\"77.5\" y=\"-124.8\" font-family=\"Times New Roman,serif\" font-size=\"14.00\">data &#45;1.0000</text>\n",
       "<polyline fill=\"none\" stroke=\"black\" points=\"120,-110.5 120,-146.5 \"/>\n",
       "<text text-anchor=\"middle\" x=\"161\" y=\"-124.8\" font-family=\"Times New Roman,serif\" font-size=\"14.00\">grad 0.4954</text>\n",
       "</g>\n",
       "<!-- 2269691098784&#45;&gt;2269690073328* -->\n",
       "<g id=\"edge6\" class=\"edge\">\n",
       "<title>2269691098784&#45;&gt;2269690073328*</title>\n",
       "<path fill=\"none\" stroke=\"black\" d=\"M202.05,-128.5C211.8,-128.5 221.19,-128.5 229.65,-128.5\"/>\n",
       "<polygon fill=\"black\" stroke=\"black\" points=\"229.8,-132 239.8,-128.5 229.8,-125 229.8,-132\"/>\n",
       "</g>\n",
       "<!-- 2269689347280 -->\n",
       "<g id=\"node7\" class=\"node\">\n",
       "<title>2269689347280</title>\n",
       "<polygon fill=\"none\" stroke=\"black\" points=\"1.5,-0.5 1.5,-36.5 202.5,-36.5 202.5,-0.5 1.5,-0.5\"/>\n",
       "<text text-anchor=\"middle\" x=\"16.5\" y=\"-14.8\" font-family=\"Times New Roman,serif\" font-size=\"14.00\">x2</text>\n",
       "<polyline fill=\"none\" stroke=\"black\" points=\"31.5,-0.5 31.5,-36.5 \"/>\n",
       "<text text-anchor=\"middle\" x=\"74\" y=\"-14.8\" font-family=\"Times New Roman,serif\" font-size=\"14.00\">data &#45;3.0000</text>\n",
       "<polyline fill=\"none\" stroke=\"black\" points=\"116.5,-0.5 116.5,-36.5 \"/>\n",
       "<text text-anchor=\"middle\" x=\"159.5\" y=\"-14.8\" font-family=\"Times New Roman,serif\" font-size=\"14.00\">grad &#45;0.2477</text>\n",
       "</g>\n",
       "<!-- 2269689347280&#45;&gt;2269690078128* -->\n",
       "<g id=\"edge14\" class=\"edge\">\n",
       "<title>2269689347280&#45;&gt;2269690078128*</title>\n",
       "<path fill=\"none\" stroke=\"black\" d=\"M172.94,-36.51C183.43,-39.61 194.05,-42.97 204,-46.5 214.29,-50.15 225.29,-54.71 235.12,-59.04\"/>\n",
       "<polygon fill=\"black\" stroke=\"black\" points=\"233.94,-62.34 244.49,-63.25 236.8,-55.96 233.94,-62.34\"/>\n",
       "</g>\n",
       "<!-- 2269690073328 -->\n",
       "<g id=\"node8\" class=\"node\">\n",
       "<title>2269690073328</title>\n",
       "<polygon fill=\"none\" stroke=\"black\" points=\"330,-110.5 330,-146.5 544,-146.5 544,-110.5 330,-110.5\"/>\n",
       "<text text-anchor=\"middle\" x=\"353.5\" y=\"-124.8\" font-family=\"Times New Roman,serif\" font-size=\"14.00\">w1x1</text>\n",
       "<polyline fill=\"none\" stroke=\"black\" points=\"377,-110.5 377,-146.5 \"/>\n",
       "<text text-anchor=\"middle\" x=\"419.5\" y=\"-124.8\" font-family=\"Times New Roman,serif\" font-size=\"14.00\">data &#45;2.0000</text>\n",
       "<polyline fill=\"none\" stroke=\"black\" points=\"462,-110.5 462,-146.5 \"/>\n",
       "<text text-anchor=\"middle\" x=\"503\" y=\"-124.8\" font-family=\"Times New Roman,serif\" font-size=\"14.00\">grad 0.2477</text>\n",
       "</g>\n",
       "<!-- 2269690072848+ -->\n",
       "<g id=\"node11\" class=\"node\">\n",
       "<title>2269690072848+</title>\n",
       "<ellipse fill=\"none\" stroke=\"black\" cx=\"607\" cy=\"-100.5\" rx=\"27\" ry=\"18\"/>\n",
       "<text text-anchor=\"middle\" x=\"607\" y=\"-96.8\" font-family=\"Times New Roman,serif\" font-size=\"14.00\">+</text>\n",
       "</g>\n",
       "<!-- 2269690073328&#45;&gt;2269690072848+ -->\n",
       "<g id=\"edge8\" class=\"edge\">\n",
       "<title>2269690073328&#45;&gt;2269690072848+</title>\n",
       "<path fill=\"none\" stroke=\"black\" d=\"M544.4,-110.77C553.72,-109.21 562.65,-107.72 570.68,-106.39\"/>\n",
       "<polygon fill=\"black\" stroke=\"black\" points=\"571.38,-109.82 580.66,-104.72 570.22,-102.91 571.38,-109.82\"/>\n",
       "</g>\n",
       "<!-- 2269690073328*&#45;&gt;2269690073328 -->\n",
       "<g id=\"edge2\" class=\"edge\">\n",
       "<title>2269690073328*&#45;&gt;2269690073328</title>\n",
       "<path fill=\"none\" stroke=\"black\" d=\"M294.25,-128.5C301.7,-128.5 310.34,-128.5 319.59,-128.5\"/>\n",
       "<polygon fill=\"black\" stroke=\"black\" points=\"319.84,-132 329.84,-128.5 319.84,-125 319.84,-132\"/>\n",
       "</g>\n",
       "<!-- 2269690072848 -->\n",
       "<g id=\"node10\" class=\"node\">\n",
       "<title>2269690072848</title>\n",
       "<polygon fill=\"none\" stroke=\"black\" points=\"670,-82.5 670,-118.5 924,-118.5 924,-82.5 670,-82.5\"/>\n",
       "<text text-anchor=\"middle\" x=\"716\" y=\"-96.8\" font-family=\"Times New Roman,serif\" font-size=\"14.00\">w1x1 + w2x2</text>\n",
       "<polyline fill=\"none\" stroke=\"black\" points=\"762,-82.5 762,-118.5 \"/>\n",
       "<text text-anchor=\"middle\" x=\"802\" y=\"-96.8\" font-family=\"Times New Roman,serif\" font-size=\"14.00\">data 1.0000</text>\n",
       "<polyline fill=\"none\" stroke=\"black\" points=\"842,-82.5 842,-118.5 \"/>\n",
       "<text text-anchor=\"middle\" x=\"883\" y=\"-96.8\" font-family=\"Times New Roman,serif\" font-size=\"14.00\">grad 0.2477</text>\n",
       "</g>\n",
       "<!-- 2269690072848&#45;&gt;2269690072944+ -->\n",
       "<g id=\"edge10\" class=\"edge\">\n",
       "<title>2269690072848&#45;&gt;2269690072944+</title>\n",
       "<path fill=\"none\" stroke=\"black\" d=\"M918.92,-82.49C930.21,-80.81 940.94,-79.21 950.37,-77.81\"/>\n",
       "<polygon fill=\"black\" stroke=\"black\" points=\"951.04,-81.24 960.42,-76.31 950.01,-74.32 951.04,-81.24\"/>\n",
       "</g>\n",
       "<!-- 2269690072848+&#45;&gt;2269690072848 -->\n",
       "<g id=\"edge3\" class=\"edge\">\n",
       "<title>2269690072848+&#45;&gt;2269690072848</title>\n",
       "<path fill=\"none\" stroke=\"black\" d=\"M634.14,-100.5C641.63,-100.5 650.35,-100.5 659.78,-100.5\"/>\n",
       "<polygon fill=\"black\" stroke=\"black\" points=\"659.85,-104 669.85,-100.5 659.85,-97 659.85,-104\"/>\n",
       "</g>\n",
       "<!-- 2269690072944 -->\n",
       "<g id=\"node12\" class=\"node\">\n",
       "<title>2269690072944</title>\n",
       "<polygon fill=\"none\" stroke=\"black\" points=\"1050,-54.5 1050,-90.5 1235,-90.5 1235,-54.5 1050,-54.5\"/>\n",
       "<text text-anchor=\"middle\" x=\"1061.5\" y=\"-68.8\" font-family=\"Times New Roman,serif\" font-size=\"14.00\">n</text>\n",
       "<polyline fill=\"none\" stroke=\"black\" points=\"1073,-54.5 1073,-90.5 \"/>\n",
       "<text text-anchor=\"middle\" x=\"1113\" y=\"-68.8\" font-family=\"Times New Roman,serif\" font-size=\"14.00\">data 1.3223</text>\n",
       "<polyline fill=\"none\" stroke=\"black\" points=\"1153,-54.5 1153,-90.5 \"/>\n",
       "<text text-anchor=\"middle\" x=\"1194\" y=\"-68.8\" font-family=\"Times New Roman,serif\" font-size=\"14.00\">grad 0.2477</text>\n",
       "</g>\n",
       "<!-- 2269690072944&#45;&gt;2269690077552tanh -->\n",
       "<g id=\"edge12\" class=\"edge\">\n",
       "<title>2269690072944&#45;&gt;2269690077552tanh</title>\n",
       "<path fill=\"none\" stroke=\"black\" d=\"M1235.01,-72.5C1244.01,-72.5 1252.74,-72.5 1260.66,-72.5\"/>\n",
       "<polygon fill=\"black\" stroke=\"black\" points=\"1260.91,-76 1270.91,-72.5 1260.91,-69 1260.91,-76\"/>\n",
       "</g>\n",
       "<!-- 2269690072944+&#45;&gt;2269690072944 -->\n",
       "<g id=\"edge4\" class=\"edge\">\n",
       "<title>2269690072944+&#45;&gt;2269690072944</title>\n",
       "<path fill=\"none\" stroke=\"black\" d=\"M1014.04,-72.5C1021.58,-72.5 1030.3,-72.5 1039.57,-72.5\"/>\n",
       "<polygon fill=\"black\" stroke=\"black\" points=\"1039.81,-76 1049.81,-72.5 1039.81,-69 1039.81,-76\"/>\n",
       "</g>\n",
       "<!-- 2269690078128 -->\n",
       "<g id=\"node14\" class=\"node\">\n",
       "<title>2269690078128</title>\n",
       "<polygon fill=\"none\" stroke=\"black\" points=\"332.5,-55.5 332.5,-91.5 541.5,-91.5 541.5,-55.5 332.5,-55.5\"/>\n",
       "<text text-anchor=\"middle\" x=\"356\" y=\"-69.8\" font-family=\"Times New Roman,serif\" font-size=\"14.00\">w2x2</text>\n",
       "<polyline fill=\"none\" stroke=\"black\" points=\"379.5,-55.5 379.5,-91.5 \"/>\n",
       "<text text-anchor=\"middle\" x=\"419.5\" y=\"-69.8\" font-family=\"Times New Roman,serif\" font-size=\"14.00\">data 3.0000</text>\n",
       "<polyline fill=\"none\" stroke=\"black\" points=\"459.5,-55.5 459.5,-91.5 \"/>\n",
       "<text text-anchor=\"middle\" x=\"500.5\" y=\"-69.8\" font-family=\"Times New Roman,serif\" font-size=\"14.00\">grad 0.2477</text>\n",
       "</g>\n",
       "<!-- 2269690078128&#45;&gt;2269690072848+ -->\n",
       "<g id=\"edge7\" class=\"edge\">\n",
       "<title>2269690078128&#45;&gt;2269690072848+</title>\n",
       "<path fill=\"none\" stroke=\"black\" d=\"M541.53,-90.14C551.8,-91.79 561.66,-93.37 570.45,-94.79\"/>\n",
       "<polygon fill=\"black\" stroke=\"black\" points=\"570.16,-98.28 580.59,-96.42 571.27,-91.37 570.16,-98.28\"/>\n",
       "</g>\n",
       "<!-- 2269690078128*&#45;&gt;2269690078128 -->\n",
       "<g id=\"edge5\" class=\"edge\">\n",
       "<title>2269690078128*&#45;&gt;2269690078128</title>\n",
       "<path fill=\"none\" stroke=\"black\" d=\"M294.25,-73.5C302.43,-73.5 312.03,-73.5 322.31,-73.5\"/>\n",
       "<polygon fill=\"black\" stroke=\"black\" points=\"322.35,-77 332.35,-73.5 322.35,-70 322.35,-77\"/>\n",
       "</g>\n",
       "</g>\n",
       "</svg>\n"
      ],
      "text/plain": [
       "<graphviz.graphs.Digraph at 0x2107406e680>"
      ]
     },
     "execution_count": 21,
     "metadata": {},
     "output_type": "execute_result"
    }
   ],
   "source": [
    "# o = tanh\n",
    "# derivative of tanh is 1-tan^2h\n",
    "# do/dn = 1-o**2\n",
    "o.data\n",
    "# so do/dh is 1-o.data^2\n",
    "n.grad = 1- o.data**2\n",
    "b.grad = n.grad * 1\n",
    "w1x1w2x2.grad = n.grad * 1\n",
    "\n",
    "w1x1.grad = w1x1w2x2.grad * 1\n",
    "w2x2.grad = w1x1w2x2.grad * 1\n",
    "\n",
    "w1.grad = w1x1.grad * x1.data\n",
    "x1.grad = w1x1.grad * w1.data\n",
    "\n",
    "w2.grad = w2x2.grad * x2.data\n",
    "x2.grad = w2x2.grad * w2.data\n",
    "\n",
    "draw_dot(o)\n"
   ]
  },
  {
   "cell_type": "code",
   "execution_count": 22,
   "id": "976034de-2ab4-4f0c-b082-b0ad5ef59713",
   "metadata": {},
   "outputs": [],
   "source": [
    "o.grad = 1.0"
   ]
  },
  {
   "cell_type": "code",
   "execution_count": 25,
   "id": "d9a6fd32-cff4-4ca2-9565-14cff76d8ad0",
   "metadata": {},
   "outputs": [],
   "source": [
    "o._backward() #backward step i.e., backpropogation"
   ]
  },
  {
   "cell_type": "code",
   "execution_count": 26,
   "id": "8e1c6a33-7e9c-4d34-89bb-761605dd552e",
   "metadata": {},
   "outputs": [],
   "source": [
    "n._backward()"
   ]
  },
  {
   "cell_type": "code",
   "execution_count": 27,
   "id": "5a31d83c-1f60-41aa-b0cb-4796ba439bd5",
   "metadata": {},
   "outputs": [],
   "source": [
    "w1x1w2x2._backward()"
   ]
  },
  {
   "cell_type": "code",
   "execution_count": 28,
   "id": "499769f5-8a4a-442f-b346-89b930c04f4d",
   "metadata": {},
   "outputs": [],
   "source": [
    "w1x1._backward()\n",
    "w2x2._backward()"
   ]
  },
  {
   "cell_type": "code",
   "execution_count": 29,
   "id": "045b49c4-4903-48d4-a9cf-ae4978c7cf4f",
   "metadata": {},
   "outputs": [
    {
     "data": {
      "image/svg+xml": [
       "<?xml version=\"1.0\" encoding=\"UTF-8\" standalone=\"no\"?>\n",
       "<!DOCTYPE svg PUBLIC \"-//W3C//DTD SVG 1.1//EN\"\n",
       " \"http://www.w3.org/Graphics/SVG/1.1/DTD/svg11.dtd\">\n",
       "<!-- Generated by graphviz version 2.50.0 (0)\n",
       " -->\n",
       "<!-- Pages: 1 -->\n",
       "<svg width=\"1551pt\" height=\"210pt\"\n",
       " viewBox=\"0.00 0.00 1551.00 210.00\" xmlns=\"http://www.w3.org/2000/svg\" xmlns:xlink=\"http://www.w3.org/1999/xlink\">\n",
       "<g id=\"graph0\" class=\"graph\" transform=\"scale(1 1) rotate(0) translate(4 206)\">\n",
       "<polygon fill=\"white\" stroke=\"transparent\" points=\"-4,4 -4,-206 1547,-206 1547,4 -4,4\"/>\n",
       "<!-- 2269691097632 -->\n",
       "<g id=\"node1\" class=\"node\">\n",
       "<title>2269691097632</title>\n",
       "<polygon fill=\"none\" stroke=\"black\" points=\"4,-165.5 4,-201.5 200,-201.5 200,-165.5 4,-165.5\"/>\n",
       "<text text-anchor=\"middle\" x=\"19\" y=\"-179.8\" font-family=\"Times New Roman,serif\" font-size=\"14.00\">x1</text>\n",
       "<polyline fill=\"none\" stroke=\"black\" points=\"34,-165.5 34,-201.5 \"/>\n",
       "<text text-anchor=\"middle\" x=\"74\" y=\"-179.8\" font-family=\"Times New Roman,serif\" font-size=\"14.00\">data 2.0000</text>\n",
       "<polyline fill=\"none\" stroke=\"black\" points=\"114,-165.5 114,-201.5 \"/>\n",
       "<text text-anchor=\"middle\" x=\"157\" y=\"-179.8\" font-family=\"Times New Roman,serif\" font-size=\"14.00\">grad &#45;1.9814</text>\n",
       "</g>\n",
       "<!-- 2269690073328* -->\n",
       "<g id=\"node9\" class=\"node\">\n",
       "<title>2269690073328*</title>\n",
       "<ellipse fill=\"none\" stroke=\"black\" cx=\"267\" cy=\"-128.5\" rx=\"27\" ry=\"18\"/>\n",
       "<text text-anchor=\"middle\" x=\"267\" y=\"-124.8\" font-family=\"Times New Roman,serif\" font-size=\"14.00\">*</text>\n",
       "</g>\n",
       "<!-- 2269691097632&#45;&gt;2269690073328* -->\n",
       "<g id=\"edge9\" class=\"edge\">\n",
       "<title>2269691097632&#45;&gt;2269690073328*</title>\n",
       "<path fill=\"none\" stroke=\"black\" d=\"M176.26,-165.43C185.67,-162.67 195.11,-159.67 204,-156.5 214.54,-152.74 225.77,-147.93 235.73,-143.36\"/>\n",
       "<polygon fill=\"black\" stroke=\"black\" points=\"237.26,-146.51 244.83,-139.09 234.29,-140.17 237.26,-146.51\"/>\n",
       "</g>\n",
       "<!-- 2269690077552 -->\n",
       "<g id=\"node2\" class=\"node\">\n",
       "<title>2269690077552</title>\n",
       "<polygon fill=\"none\" stroke=\"black\" points=\"1361,-54.5 1361,-90.5 1543,-90.5 1543,-54.5 1361,-54.5\"/>\n",
       "<text text-anchor=\"middle\" x=\"1371\" y=\"-68.8\" font-family=\"Times New Roman,serif\" font-size=\"14.00\"> </text>\n",
       "<polyline fill=\"none\" stroke=\"black\" points=\"1381,-54.5 1381,-90.5 \"/>\n",
       "<text text-anchor=\"middle\" x=\"1421\" y=\"-68.8\" font-family=\"Times New Roman,serif\" font-size=\"14.00\">data 0.8674</text>\n",
       "<polyline fill=\"none\" stroke=\"black\" points=\"1461,-54.5 1461,-90.5 \"/>\n",
       "<text text-anchor=\"middle\" x=\"1502\" y=\"-68.8\" font-family=\"Times New Roman,serif\" font-size=\"14.00\">grad 1.0000</text>\n",
       "</g>\n",
       "<!-- 2269690077552tanh -->\n",
       "<g id=\"node3\" class=\"node\">\n",
       "<title>2269690077552tanh</title>\n",
       "<ellipse fill=\"none\" stroke=\"black\" cx=\"1298\" cy=\"-72.5\" rx=\"27\" ry=\"18\"/>\n",
       "<text text-anchor=\"middle\" x=\"1298\" y=\"-68.8\" font-family=\"Times New Roman,serif\" font-size=\"14.00\">tanh</text>\n",
       "</g>\n",
       "<!-- 2269690077552tanh&#45;&gt;2269690077552 -->\n",
       "<g id=\"edge1\" class=\"edge\">\n",
       "<title>2269690077552tanh&#45;&gt;2269690077552</title>\n",
       "<path fill=\"none\" stroke=\"black\" d=\"M1325.13,-72.5C1332.67,-72.5 1341.39,-72.5 1350.64,-72.5\"/>\n",
       "<polygon fill=\"black\" stroke=\"black\" points=\"1350.87,-76 1360.87,-72.5 1350.87,-69 1350.87,-76\"/>\n",
       "</g>\n",
       "<!-- 2269689951376 -->\n",
       "<g id=\"node4\" class=\"node\">\n",
       "<title>2269689951376</title>\n",
       "<polygon fill=\"none\" stroke=\"black\" points=\"704.5,-27.5 704.5,-63.5 889.5,-63.5 889.5,-27.5 704.5,-27.5\"/>\n",
       "<text text-anchor=\"middle\" x=\"716\" y=\"-41.8\" font-family=\"Times New Roman,serif\" font-size=\"14.00\">b</text>\n",
       "<polyline fill=\"none\" stroke=\"black\" points=\"727.5,-27.5 727.5,-63.5 \"/>\n",
       "<text text-anchor=\"middle\" x=\"767.5\" y=\"-41.8\" font-family=\"Times New Roman,serif\" font-size=\"14.00\">data 0.3223</text>\n",
       "<polyline fill=\"none\" stroke=\"black\" points=\"807.5,-27.5 807.5,-63.5 \"/>\n",
       "<text text-anchor=\"middle\" x=\"848.5\" y=\"-41.8\" font-family=\"Times New Roman,serif\" font-size=\"14.00\">grad 1.4861</text>\n",
       "</g>\n",
       "<!-- 2269690072944+ -->\n",
       "<g id=\"node13\" class=\"node\">\n",
       "<title>2269690072944+</title>\n",
       "<ellipse fill=\"none\" stroke=\"black\" cx=\"987\" cy=\"-72.5\" rx=\"27\" ry=\"18\"/>\n",
       "<text text-anchor=\"middle\" x=\"987\" y=\"-68.8\" font-family=\"Times New Roman,serif\" font-size=\"14.00\">+</text>\n",
       "</g>\n",
       "<!-- 2269689951376&#45;&gt;2269690072944+ -->\n",
       "<g id=\"edge13\" class=\"edge\">\n",
       "<title>2269689951376&#45;&gt;2269690072944+</title>\n",
       "<path fill=\"none\" stroke=\"black\" d=\"M889.52,-58.64C911.02,-61.73 932.69,-64.84 950.03,-67.33\"/>\n",
       "<polygon fill=\"black\" stroke=\"black\" points=\"949.84,-70.84 960.23,-68.8 950.83,-63.91 949.84,-70.84\"/>\n",
       "</g>\n",
       "<!-- 2269688923568 -->\n",
       "<g id=\"node5\" class=\"node\">\n",
       "<title>2269688923568</title>\n",
       "<polygon fill=\"none\" stroke=\"black\" points=\"0,-55.5 0,-91.5 204,-91.5 204,-55.5 0,-55.5\"/>\n",
       "<text text-anchor=\"middle\" x=\"16.5\" y=\"-69.8\" font-family=\"Times New Roman,serif\" font-size=\"14.00\">w2</text>\n",
       "<polyline fill=\"none\" stroke=\"black\" points=\"33,-55.5 33,-91.5 \"/>\n",
       "<text text-anchor=\"middle\" x=\"75.5\" y=\"-69.8\" font-family=\"Times New Roman,serif\" font-size=\"14.00\">data &#45;1.0000</text>\n",
       "<polyline fill=\"none\" stroke=\"black\" points=\"118,-55.5 118,-91.5 \"/>\n",
       "<text text-anchor=\"middle\" x=\"161\" y=\"-69.8\" font-family=\"Times New Roman,serif\" font-size=\"14.00\">grad &#45;2.0093</text>\n",
       "</g>\n",
       "<!-- 2269690078128* -->\n",
       "<g id=\"node15\" class=\"node\">\n",
       "<title>2269690078128*</title>\n",
       "<ellipse fill=\"none\" stroke=\"black\" cx=\"267\" cy=\"-73.5\" rx=\"27\" ry=\"18\"/>\n",
       "<text text-anchor=\"middle\" x=\"267\" y=\"-69.8\" font-family=\"Times New Roman,serif\" font-size=\"14.00\">*</text>\n",
       "</g>\n",
       "<!-- 2269688923568&#45;&gt;2269690078128* -->\n",
       "<g id=\"edge11\" class=\"edge\">\n",
       "<title>2269688923568&#45;&gt;2269690078128*</title>\n",
       "<path fill=\"none\" stroke=\"black\" d=\"M204.38,-73.5C213.37,-73.5 222.01,-73.5 229.84,-73.5\"/>\n",
       "<polygon fill=\"black\" stroke=\"black\" points=\"229.97,-77 239.97,-73.5 229.97,-70 229.97,-77\"/>\n",
       "</g>\n",
       "<!-- 2269691098784 -->\n",
       "<g id=\"node6\" class=\"node\">\n",
       "<title>2269691098784</title>\n",
       "<polygon fill=\"none\" stroke=\"black\" points=\"2,-110.5 2,-146.5 202,-146.5 202,-110.5 2,-110.5\"/>\n",
       "<text text-anchor=\"middle\" x=\"18.5\" y=\"-124.8\" font-family=\"Times New Roman,serif\" font-size=\"14.00\">w1</text>\n",
       "<polyline fill=\"none\" stroke=\"black\" points=\"35,-110.5 35,-146.5 \"/>\n",
       "<text text-anchor=\"middle\" x=\"77.5\" y=\"-124.8\" font-family=\"Times New Roman,serif\" font-size=\"14.00\">data &#45;1.0000</text>\n",
       "<polyline fill=\"none\" stroke=\"black\" points=\"120,-110.5 120,-146.5 \"/>\n",
       "<text text-anchor=\"middle\" x=\"161\" y=\"-124.8\" font-family=\"Times New Roman,serif\" font-size=\"14.00\">grad 4.2291</text>\n",
       "</g>\n",
       "<!-- 2269691098784&#45;&gt;2269690073328* -->\n",
       "<g id=\"edge6\" class=\"edge\">\n",
       "<title>2269691098784&#45;&gt;2269690073328*</title>\n",
       "<path fill=\"none\" stroke=\"black\" d=\"M202.05,-128.5C211.8,-128.5 221.19,-128.5 229.65,-128.5\"/>\n",
       "<polygon fill=\"black\" stroke=\"black\" points=\"229.8,-132 239.8,-128.5 229.8,-125 229.8,-132\"/>\n",
       "</g>\n",
       "<!-- 2269689347280 -->\n",
       "<g id=\"node7\" class=\"node\">\n",
       "<title>2269689347280</title>\n",
       "<polygon fill=\"none\" stroke=\"black\" points=\"1.5,-0.5 1.5,-36.5 202.5,-36.5 202.5,-0.5 1.5,-0.5\"/>\n",
       "<text text-anchor=\"middle\" x=\"16.5\" y=\"-14.8\" font-family=\"Times New Roman,serif\" font-size=\"14.00\">x2</text>\n",
       "<polyline fill=\"none\" stroke=\"black\" points=\"31.5,-0.5 31.5,-36.5 \"/>\n",
       "<text text-anchor=\"middle\" x=\"74\" y=\"-14.8\" font-family=\"Times New Roman,serif\" font-size=\"14.00\">data &#45;3.0000</text>\n",
       "<polyline fill=\"none\" stroke=\"black\" points=\"116.5,-0.5 116.5,-36.5 \"/>\n",
       "<text text-anchor=\"middle\" x=\"159.5\" y=\"-14.8\" font-family=\"Times New Roman,serif\" font-size=\"14.00\">grad &#45;1.9814</text>\n",
       "</g>\n",
       "<!-- 2269689347280&#45;&gt;2269690078128* -->\n",
       "<g id=\"edge14\" class=\"edge\">\n",
       "<title>2269689347280&#45;&gt;2269690078128*</title>\n",
       "<path fill=\"none\" stroke=\"black\" d=\"M172.94,-36.51C183.43,-39.61 194.05,-42.97 204,-46.5 214.29,-50.15 225.29,-54.71 235.12,-59.04\"/>\n",
       "<polygon fill=\"black\" stroke=\"black\" points=\"233.94,-62.34 244.49,-63.25 236.8,-55.96 233.94,-62.34\"/>\n",
       "</g>\n",
       "<!-- 2269690073328 -->\n",
       "<g id=\"node8\" class=\"node\">\n",
       "<title>2269690073328</title>\n",
       "<polygon fill=\"none\" stroke=\"black\" points=\"330,-110.5 330,-146.5 544,-146.5 544,-110.5 330,-110.5\"/>\n",
       "<text text-anchor=\"middle\" x=\"353.5\" y=\"-124.8\" font-family=\"Times New Roman,serif\" font-size=\"14.00\">w1x1</text>\n",
       "<polyline fill=\"none\" stroke=\"black\" points=\"377,-110.5 377,-146.5 \"/>\n",
       "<text text-anchor=\"middle\" x=\"419.5\" y=\"-124.8\" font-family=\"Times New Roman,serif\" font-size=\"14.00\">data &#45;2.0000</text>\n",
       "<polyline fill=\"none\" stroke=\"black\" points=\"462,-110.5 462,-146.5 \"/>\n",
       "<text text-anchor=\"middle\" x=\"503\" y=\"-124.8\" font-family=\"Times New Roman,serif\" font-size=\"14.00\">grad 1.7337</text>\n",
       "</g>\n",
       "<!-- 2269690072848+ -->\n",
       "<g id=\"node11\" class=\"node\">\n",
       "<title>2269690072848+</title>\n",
       "<ellipse fill=\"none\" stroke=\"black\" cx=\"607\" cy=\"-100.5\" rx=\"27\" ry=\"18\"/>\n",
       "<text text-anchor=\"middle\" x=\"607\" y=\"-96.8\" font-family=\"Times New Roman,serif\" font-size=\"14.00\">+</text>\n",
       "</g>\n",
       "<!-- 2269690073328&#45;&gt;2269690072848+ -->\n",
       "<g id=\"edge8\" class=\"edge\">\n",
       "<title>2269690073328&#45;&gt;2269690072848+</title>\n",
       "<path fill=\"none\" stroke=\"black\" d=\"M544.4,-110.77C553.72,-109.21 562.65,-107.72 570.68,-106.39\"/>\n",
       "<polygon fill=\"black\" stroke=\"black\" points=\"571.38,-109.82 580.66,-104.72 570.22,-102.91 571.38,-109.82\"/>\n",
       "</g>\n",
       "<!-- 2269690073328*&#45;&gt;2269690073328 -->\n",
       "<g id=\"edge2\" class=\"edge\">\n",
       "<title>2269690073328*&#45;&gt;2269690073328</title>\n",
       "<path fill=\"none\" stroke=\"black\" d=\"M294.25,-128.5C301.7,-128.5 310.34,-128.5 319.59,-128.5\"/>\n",
       "<polygon fill=\"black\" stroke=\"black\" points=\"319.84,-132 329.84,-128.5 319.84,-125 319.84,-132\"/>\n",
       "</g>\n",
       "<!-- 2269690072848 -->\n",
       "<g id=\"node10\" class=\"node\">\n",
       "<title>2269690072848</title>\n",
       "<polygon fill=\"none\" stroke=\"black\" points=\"670,-82.5 670,-118.5 924,-118.5 924,-82.5 670,-82.5\"/>\n",
       "<text text-anchor=\"middle\" x=\"716\" y=\"-96.8\" font-family=\"Times New Roman,serif\" font-size=\"14.00\">w1x1 + w2x2</text>\n",
       "<polyline fill=\"none\" stroke=\"black\" points=\"762,-82.5 762,-118.5 \"/>\n",
       "<text text-anchor=\"middle\" x=\"802\" y=\"-96.8\" font-family=\"Times New Roman,serif\" font-size=\"14.00\">data 1.0000</text>\n",
       "<polyline fill=\"none\" stroke=\"black\" points=\"842,-82.5 842,-118.5 \"/>\n",
       "<text text-anchor=\"middle\" x=\"883\" y=\"-96.8\" font-family=\"Times New Roman,serif\" font-size=\"14.00\">grad 1.4861</text>\n",
       "</g>\n",
       "<!-- 2269690072848&#45;&gt;2269690072944+ -->\n",
       "<g id=\"edge10\" class=\"edge\">\n",
       "<title>2269690072848&#45;&gt;2269690072944+</title>\n",
       "<path fill=\"none\" stroke=\"black\" d=\"M918.92,-82.49C930.21,-80.81 940.94,-79.21 950.37,-77.81\"/>\n",
       "<polygon fill=\"black\" stroke=\"black\" points=\"951.04,-81.24 960.42,-76.31 950.01,-74.32 951.04,-81.24\"/>\n",
       "</g>\n",
       "<!-- 2269690072848+&#45;&gt;2269690072848 -->\n",
       "<g id=\"edge3\" class=\"edge\">\n",
       "<title>2269690072848+&#45;&gt;2269690072848</title>\n",
       "<path fill=\"none\" stroke=\"black\" d=\"M634.14,-100.5C641.63,-100.5 650.35,-100.5 659.78,-100.5\"/>\n",
       "<polygon fill=\"black\" stroke=\"black\" points=\"659.85,-104 669.85,-100.5 659.85,-97 659.85,-104\"/>\n",
       "</g>\n",
       "<!-- 2269690072944 -->\n",
       "<g id=\"node12\" class=\"node\">\n",
       "<title>2269690072944</title>\n",
       "<polygon fill=\"none\" stroke=\"black\" points=\"1050,-54.5 1050,-90.5 1235,-90.5 1235,-54.5 1050,-54.5\"/>\n",
       "<text text-anchor=\"middle\" x=\"1061.5\" y=\"-68.8\" font-family=\"Times New Roman,serif\" font-size=\"14.00\">n</text>\n",
       "<polyline fill=\"none\" stroke=\"black\" points=\"1073,-54.5 1073,-90.5 \"/>\n",
       "<text text-anchor=\"middle\" x=\"1113\" y=\"-68.8\" font-family=\"Times New Roman,serif\" font-size=\"14.00\">data 1.3223</text>\n",
       "<polyline fill=\"none\" stroke=\"black\" points=\"1153,-54.5 1153,-90.5 \"/>\n",
       "<text text-anchor=\"middle\" x=\"1194\" y=\"-68.8\" font-family=\"Times New Roman,serif\" font-size=\"14.00\">grad 0.7430</text>\n",
       "</g>\n",
       "<!-- 2269690072944&#45;&gt;2269690077552tanh -->\n",
       "<g id=\"edge12\" class=\"edge\">\n",
       "<title>2269690072944&#45;&gt;2269690077552tanh</title>\n",
       "<path fill=\"none\" stroke=\"black\" d=\"M1235.01,-72.5C1244.01,-72.5 1252.74,-72.5 1260.66,-72.5\"/>\n",
       "<polygon fill=\"black\" stroke=\"black\" points=\"1260.91,-76 1270.91,-72.5 1260.91,-69 1260.91,-76\"/>\n",
       "</g>\n",
       "<!-- 2269690072944+&#45;&gt;2269690072944 -->\n",
       "<g id=\"edge4\" class=\"edge\">\n",
       "<title>2269690072944+&#45;&gt;2269690072944</title>\n",
       "<path fill=\"none\" stroke=\"black\" d=\"M1014.04,-72.5C1021.58,-72.5 1030.3,-72.5 1039.57,-72.5\"/>\n",
       "<polygon fill=\"black\" stroke=\"black\" points=\"1039.81,-76 1049.81,-72.5 1039.81,-69 1039.81,-76\"/>\n",
       "</g>\n",
       "<!-- 2269690078128 -->\n",
       "<g id=\"node14\" class=\"node\">\n",
       "<title>2269690078128</title>\n",
       "<polygon fill=\"none\" stroke=\"black\" points=\"332.5,-55.5 332.5,-91.5 541.5,-91.5 541.5,-55.5 332.5,-55.5\"/>\n",
       "<text text-anchor=\"middle\" x=\"356\" y=\"-69.8\" font-family=\"Times New Roman,serif\" font-size=\"14.00\">w2x2</text>\n",
       "<polyline fill=\"none\" stroke=\"black\" points=\"379.5,-55.5 379.5,-91.5 \"/>\n",
       "<text text-anchor=\"middle\" x=\"419.5\" y=\"-69.8\" font-family=\"Times New Roman,serif\" font-size=\"14.00\">data 3.0000</text>\n",
       "<polyline fill=\"none\" stroke=\"black\" points=\"459.5,-55.5 459.5,-91.5 \"/>\n",
       "<text text-anchor=\"middle\" x=\"500.5\" y=\"-69.8\" font-family=\"Times New Roman,serif\" font-size=\"14.00\">grad 1.7337</text>\n",
       "</g>\n",
       "<!-- 2269690078128&#45;&gt;2269690072848+ -->\n",
       "<g id=\"edge7\" class=\"edge\">\n",
       "<title>2269690078128&#45;&gt;2269690072848+</title>\n",
       "<path fill=\"none\" stroke=\"black\" d=\"M541.53,-90.14C551.8,-91.79 561.66,-93.37 570.45,-94.79\"/>\n",
       "<polygon fill=\"black\" stroke=\"black\" points=\"570.16,-98.28 580.59,-96.42 571.27,-91.37 570.16,-98.28\"/>\n",
       "</g>\n",
       "<!-- 2269690078128*&#45;&gt;2269690078128 -->\n",
       "<g id=\"edge5\" class=\"edge\">\n",
       "<title>2269690078128*&#45;&gt;2269690078128</title>\n",
       "<path fill=\"none\" stroke=\"black\" d=\"M294.25,-73.5C302.43,-73.5 312.03,-73.5 322.31,-73.5\"/>\n",
       "<polygon fill=\"black\" stroke=\"black\" points=\"322.35,-77 332.35,-73.5 322.35,-70 322.35,-77\"/>\n",
       "</g>\n",
       "</g>\n",
       "</svg>\n"
      ],
      "text/plain": [
       "<graphviz.graphs.Digraph at 0x21074008a30>"
      ]
     },
     "execution_count": 29,
     "metadata": {},
     "output_type": "execute_result"
    }
   ],
   "source": [
    "draw_dot(o)"
   ]
  },
  {
   "cell_type": "code",
   "execution_count": 30,
   "id": "2c1fb60b-15cb-41d0-a2ca-72fbabca7778",
   "metadata": {},
   "outputs": [],
   "source": [
    "#this can be done using pytorch in the following way\n",
    "import torch"
   ]
  },
  {
   "cell_type": "code",
   "execution_count": 31,
   "id": "4cc666d4-3e4e-41f0-a80e-ecf7ababbfdc",
   "metadata": {},
   "outputs": [
    {
     "name": "stdout",
     "output_type": "stream",
     "text": [
      "0.8673547635458637\n",
      "-0.2476957141542988\n",
      "-0.2476957141542988\n",
      "0.4953914283085976\n",
      "-0.7430871424628964\n"
     ]
    }
   ],
   "source": [
    "x1 = torch.Tensor([2.0]).double()           ;x1.requires_grad = True\n",
    "x2 = torch.Tensor([-3.0]).double()          ;x2.requires_grad = True\n",
    "w1 = torch.Tensor([-1.0]).double()           ;w1.requires_grad = True\n",
    "w2 = torch.Tensor([-1.0]).double()           ;w2.requires_grad = True\n",
    "b = torch.Tensor([0.3223]).double()           ;b.requires_grad = True\n",
    "n = w1*x1 + w2*x2 + b\n",
    "o = torch.tanh(n) #activation function is tanh\n",
    "\n",
    "print(o.data.item()) #tanh\n",
    "o.backward()\n",
    "\n",
    "print(x1.grad.item())\n",
    "print(x2.grad.item())\n",
    "print(w1.grad.item())\n",
    "print(w2.grad.item())"
   ]
  },
  {
   "cell_type": "code",
   "execution_count": 32,
   "id": "7816d54e-e21e-43d9-aa92-299bace15abf",
   "metadata": {},
   "outputs": [
    {
     "data": {
      "text/plain": [
       "torch.float64"
      ]
     },
     "execution_count": 32,
     "metadata": {},
     "output_type": "execute_result"
    }
   ],
   "source": [
    "torch.Tensor([2.0]).double().dtype #because python has float 64 precesion so we conver the same"
   ]
  },
  {
   "cell_type": "code",
   "execution_count": 33,
   "id": "916983e7-0719-49ea-976e-4f6da20d3a14",
   "metadata": {},
   "outputs": [
    {
     "data": {
      "text/plain": [
       "tensor([0.8674], dtype=torch.float64, grad_fn=<TanhBackward0>)"
      ]
     },
     "execution_count": 33,
     "metadata": {},
     "output_type": "execute_result"
    }
   ],
   "source": [
    "o"
   ]
  },
  {
   "cell_type": "code",
   "execution_count": 34,
   "id": "17e81c6c-2bb6-4273-97b9-0607fc653353",
   "metadata": {},
   "outputs": [
    {
     "data": {
      "text/plain": [
       "0.8673547635458637"
      ]
     },
     "execution_count": 34,
     "metadata": {},
     "output_type": "execute_result"
    }
   ],
   "source": [
    "o.item()"
   ]
  },
  {
   "cell_type": "code",
   "execution_count": 35,
   "id": "eb551a93-e215-4e4d-8ade-540d10e51dc4",
   "metadata": {},
   "outputs": [
    {
     "data": {
      "text/plain": [
       "0.8673547635458637"
      ]
     },
     "execution_count": 35,
     "metadata": {},
     "output_type": "execute_result"
    }
   ],
   "source": [
    "o.data.item()"
   ]
  },
  {
   "cell_type": "code",
   "execution_count": null,
   "id": "a8917a84-15dd-49c0-b7ab-f2af4c537eca",
   "metadata": {},
   "outputs": [],
   "source": [
    "#building a neural net 2 layer multilayer perceptron layer (MLP)\n",
    "#tanh/relu is a non linearity activation which we will pass the w*x+b\n",
    "# loss is a single number measure how well the nn is performing\n",
    "# various loss functions mean squared error loss etc...\n",
    "# loss is sum of all examples losses\n",
    "# in gradient descent we increase/decrease the weights of all the parameters like weights in the direction\n",
    "# of decreasing the loss"
   ]
  }
 ],
 "metadata": {
  "kernelspec": {
   "display_name": "Python 3 (ipykernel)",
   "language": "python",
   "name": "python3"
  },
  "language_info": {
   "codemirror_mode": {
    "name": "ipython",
    "version": 3
   },
   "file_extension": ".py",
   "mimetype": "text/x-python",
   "name": "python",
   "nbconvert_exporter": "python",
   "pygments_lexer": "ipython3",
   "version": "3.10.12"
  }
 },
 "nbformat": 4,
 "nbformat_minor": 5
}
